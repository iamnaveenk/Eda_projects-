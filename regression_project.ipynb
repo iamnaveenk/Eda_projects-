{
  "nbformat": 4,
  "nbformat_minor": 0,
  "metadata": {
    "colab": {
      "name": "regression project.ipynb",
      "provenance": [],
      "collapsed_sections": [],
      "authorship_tag": "ABX9TyNc9Qvhyv1N5+9OeWRiTne/",
      "include_colab_link": true
    },
    "kernelspec": {
      "name": "python3",
      "display_name": "Python 3"
    },
    "language_info": {
      "name": "python"
    }
  },
  "cells": [
    {
      "cell_type": "markdown",
      "metadata": {
        "id": "view-in-github",
        "colab_type": "text"
      },
      "source": [
        "<a href=\"https://colab.research.google.com/github/naveenkumar1805/Eda_projects-/blob/main/regression_project.ipynb\" target=\"_parent\"><img src=\"https://colab.research.google.com/assets/colab-badge.svg\" alt=\"Open In Colab\"/></a>"
      ]
    },
    {
      "cell_type": "code",
      "execution_count": 91,
      "metadata": {
        "id": "nqFu3dSPeUkz"
      },
      "outputs": [],
      "source": [
        "import pandas as pd\n",
        "\n",
        "df = pd.read_csv('https://raw.githubusercontent.com/dataprofessor/data/master/delaney_solubility_with_descriptors.csv')\n"
      ]
    },
    {
      "cell_type": "code",
      "source": [
        "df"
      ],
      "metadata": {
        "colab": {
          "base_uri": "https://localhost:8080/",
          "height": 423
        },
        "id": "JCDXhnFJeokC",
        "outputId": "34109bfe-b11f-4445-b169-4b55f0a0ab80"
      },
      "execution_count": 92,
      "outputs": [
        {
          "output_type": "execute_result",
          "data": {
            "text/plain": [
              "      MolLogP    MolWt  NumRotatableBonds  AromaticProportion   logS\n",
              "0     2.59540  167.850                0.0            0.000000 -2.180\n",
              "1     2.37650  133.405                0.0            0.000000 -2.000\n",
              "2     2.59380  167.850                1.0            0.000000 -1.740\n",
              "3     2.02890  133.405                1.0            0.000000 -1.480\n",
              "4     2.91890  187.375                1.0            0.000000 -3.040\n",
              "...       ...      ...                ...                 ...    ...\n",
              "1139  1.98820  287.343                8.0            0.000000  1.144\n",
              "1140  3.42130  286.114                2.0            0.333333 -4.925\n",
              "1141  3.60960  308.333                4.0            0.695652 -3.893\n",
              "1142  2.56214  354.815                3.0            0.521739 -3.790\n",
              "1143  2.02164  179.219                1.0            0.461538 -2.581\n",
              "\n",
              "[1144 rows x 5 columns]"
            ],
            "text/html": [
              "\n",
              "  <div id=\"df-5e775793-a8b5-43c3-beb6-dfd5b8ee8dec\">\n",
              "    <div class=\"colab-df-container\">\n",
              "      <div>\n",
              "<style scoped>\n",
              "    .dataframe tbody tr th:only-of-type {\n",
              "        vertical-align: middle;\n",
              "    }\n",
              "\n",
              "    .dataframe tbody tr th {\n",
              "        vertical-align: top;\n",
              "    }\n",
              "\n",
              "    .dataframe thead th {\n",
              "        text-align: right;\n",
              "    }\n",
              "</style>\n",
              "<table border=\"1\" class=\"dataframe\">\n",
              "  <thead>\n",
              "    <tr style=\"text-align: right;\">\n",
              "      <th></th>\n",
              "      <th>MolLogP</th>\n",
              "      <th>MolWt</th>\n",
              "      <th>NumRotatableBonds</th>\n",
              "      <th>AromaticProportion</th>\n",
              "      <th>logS</th>\n",
              "    </tr>\n",
              "  </thead>\n",
              "  <tbody>\n",
              "    <tr>\n",
              "      <th>0</th>\n",
              "      <td>2.59540</td>\n",
              "      <td>167.850</td>\n",
              "      <td>0.0</td>\n",
              "      <td>0.000000</td>\n",
              "      <td>-2.180</td>\n",
              "    </tr>\n",
              "    <tr>\n",
              "      <th>1</th>\n",
              "      <td>2.37650</td>\n",
              "      <td>133.405</td>\n",
              "      <td>0.0</td>\n",
              "      <td>0.000000</td>\n",
              "      <td>-2.000</td>\n",
              "    </tr>\n",
              "    <tr>\n",
              "      <th>2</th>\n",
              "      <td>2.59380</td>\n",
              "      <td>167.850</td>\n",
              "      <td>1.0</td>\n",
              "      <td>0.000000</td>\n",
              "      <td>-1.740</td>\n",
              "    </tr>\n",
              "    <tr>\n",
              "      <th>3</th>\n",
              "      <td>2.02890</td>\n",
              "      <td>133.405</td>\n",
              "      <td>1.0</td>\n",
              "      <td>0.000000</td>\n",
              "      <td>-1.480</td>\n",
              "    </tr>\n",
              "    <tr>\n",
              "      <th>4</th>\n",
              "      <td>2.91890</td>\n",
              "      <td>187.375</td>\n",
              "      <td>1.0</td>\n",
              "      <td>0.000000</td>\n",
              "      <td>-3.040</td>\n",
              "    </tr>\n",
              "    <tr>\n",
              "      <th>...</th>\n",
              "      <td>...</td>\n",
              "      <td>...</td>\n",
              "      <td>...</td>\n",
              "      <td>...</td>\n",
              "      <td>...</td>\n",
              "    </tr>\n",
              "    <tr>\n",
              "      <th>1139</th>\n",
              "      <td>1.98820</td>\n",
              "      <td>287.343</td>\n",
              "      <td>8.0</td>\n",
              "      <td>0.000000</td>\n",
              "      <td>1.144</td>\n",
              "    </tr>\n",
              "    <tr>\n",
              "      <th>1140</th>\n",
              "      <td>3.42130</td>\n",
              "      <td>286.114</td>\n",
              "      <td>2.0</td>\n",
              "      <td>0.333333</td>\n",
              "      <td>-4.925</td>\n",
              "    </tr>\n",
              "    <tr>\n",
              "      <th>1141</th>\n",
              "      <td>3.60960</td>\n",
              "      <td>308.333</td>\n",
              "      <td>4.0</td>\n",
              "      <td>0.695652</td>\n",
              "      <td>-3.893</td>\n",
              "    </tr>\n",
              "    <tr>\n",
              "      <th>1142</th>\n",
              "      <td>2.56214</td>\n",
              "      <td>354.815</td>\n",
              "      <td>3.0</td>\n",
              "      <td>0.521739</td>\n",
              "      <td>-3.790</td>\n",
              "    </tr>\n",
              "    <tr>\n",
              "      <th>1143</th>\n",
              "      <td>2.02164</td>\n",
              "      <td>179.219</td>\n",
              "      <td>1.0</td>\n",
              "      <td>0.461538</td>\n",
              "      <td>-2.581</td>\n",
              "    </tr>\n",
              "  </tbody>\n",
              "</table>\n",
              "<p>1144 rows × 5 columns</p>\n",
              "</div>\n",
              "      <button class=\"colab-df-convert\" onclick=\"convertToInteractive('df-5e775793-a8b5-43c3-beb6-dfd5b8ee8dec')\"\n",
              "              title=\"Convert this dataframe to an interactive table.\"\n",
              "              style=\"display:none;\">\n",
              "        \n",
              "  <svg xmlns=\"http://www.w3.org/2000/svg\" height=\"24px\"viewBox=\"0 0 24 24\"\n",
              "       width=\"24px\">\n",
              "    <path d=\"M0 0h24v24H0V0z\" fill=\"none\"/>\n",
              "    <path d=\"M18.56 5.44l.94 2.06.94-2.06 2.06-.94-2.06-.94-.94-2.06-.94 2.06-2.06.94zm-11 1L8.5 8.5l.94-2.06 2.06-.94-2.06-.94L8.5 2.5l-.94 2.06-2.06.94zm10 10l.94 2.06.94-2.06 2.06-.94-2.06-.94-.94-2.06-.94 2.06-2.06.94z\"/><path d=\"M17.41 7.96l-1.37-1.37c-.4-.4-.92-.59-1.43-.59-.52 0-1.04.2-1.43.59L10.3 9.45l-7.72 7.72c-.78.78-.78 2.05 0 2.83L4 21.41c.39.39.9.59 1.41.59.51 0 1.02-.2 1.41-.59l7.78-7.78 2.81-2.81c.8-.78.8-2.07 0-2.86zM5.41 20L4 18.59l7.72-7.72 1.47 1.35L5.41 20z\"/>\n",
              "  </svg>\n",
              "      </button>\n",
              "      \n",
              "  <style>\n",
              "    .colab-df-container {\n",
              "      display:flex;\n",
              "      flex-wrap:wrap;\n",
              "      gap: 12px;\n",
              "    }\n",
              "\n",
              "    .colab-df-convert {\n",
              "      background-color: #E8F0FE;\n",
              "      border: none;\n",
              "      border-radius: 50%;\n",
              "      cursor: pointer;\n",
              "      display: none;\n",
              "      fill: #1967D2;\n",
              "      height: 32px;\n",
              "      padding: 0 0 0 0;\n",
              "      width: 32px;\n",
              "    }\n",
              "\n",
              "    .colab-df-convert:hover {\n",
              "      background-color: #E2EBFA;\n",
              "      box-shadow: 0px 1px 2px rgba(60, 64, 67, 0.3), 0px 1px 3px 1px rgba(60, 64, 67, 0.15);\n",
              "      fill: #174EA6;\n",
              "    }\n",
              "\n",
              "    [theme=dark] .colab-df-convert {\n",
              "      background-color: #3B4455;\n",
              "      fill: #D2E3FC;\n",
              "    }\n",
              "\n",
              "    [theme=dark] .colab-df-convert:hover {\n",
              "      background-color: #434B5C;\n",
              "      box-shadow: 0px 1px 3px 1px rgba(0, 0, 0, 0.15);\n",
              "      filter: drop-shadow(0px 1px 2px rgba(0, 0, 0, 0.3));\n",
              "      fill: #FFFFFF;\n",
              "    }\n",
              "  </style>\n",
              "\n",
              "      <script>\n",
              "        const buttonEl =\n",
              "          document.querySelector('#df-5e775793-a8b5-43c3-beb6-dfd5b8ee8dec button.colab-df-convert');\n",
              "        buttonEl.style.display =\n",
              "          google.colab.kernel.accessAllowed ? 'block' : 'none';\n",
              "\n",
              "        async function convertToInteractive(key) {\n",
              "          const element = document.querySelector('#df-5e775793-a8b5-43c3-beb6-dfd5b8ee8dec');\n",
              "          const dataTable =\n",
              "            await google.colab.kernel.invokeFunction('convertToInteractive',\n",
              "                                                     [key], {});\n",
              "          if (!dataTable) return;\n",
              "\n",
              "          const docLinkHtml = 'Like what you see? Visit the ' +\n",
              "            '<a target=\"_blank\" href=https://colab.research.google.com/notebooks/data_table.ipynb>data table notebook</a>'\n",
              "            + ' to learn more about interactive tables.';\n",
              "          element.innerHTML = '';\n",
              "          dataTable['output_type'] = 'display_data';\n",
              "          await google.colab.output.renderOutput(dataTable, element);\n",
              "          const docLink = document.createElement('div');\n",
              "          docLink.innerHTML = docLinkHtml;\n",
              "          element.appendChild(docLink);\n",
              "        }\n",
              "      </script>\n",
              "    </div>\n",
              "  </div>\n",
              "  "
            ]
          },
          "metadata": {},
          "execution_count": 92
        }
      ]
    },
    {
      "cell_type": "code",
      "source": [
        "df.shape"
      ],
      "metadata": {
        "colab": {
          "base_uri": "https://localhost:8080/"
        },
        "id": "owDhgwEfes56",
        "outputId": "5d899e5b-41da-4e01-be52-f26f7bec4d9b"
      },
      "execution_count": 93,
      "outputs": [
        {
          "output_type": "execute_result",
          "data": {
            "text/plain": [
              "(1144, 5)"
            ]
          },
          "metadata": {},
          "execution_count": 93
        }
      ]
    },
    {
      "cell_type": "code",
      "source": [
        "df.isna().sum()"
      ],
      "metadata": {
        "colab": {
          "base_uri": "https://localhost:8080/"
        },
        "id": "NXFDCNH0jL0D",
        "outputId": "668e265b-2095-463e-c6a2-aeaf3a794720"
      },
      "execution_count": 94,
      "outputs": [
        {
          "output_type": "execute_result",
          "data": {
            "text/plain": [
              "MolLogP               0\n",
              "MolWt                 0\n",
              "NumRotatableBonds     0\n",
              "AromaticProportion    0\n",
              "logS                  0\n",
              "dtype: int64"
            ]
          },
          "metadata": {},
          "execution_count": 94
        }
      ]
    },
    {
      "cell_type": "code",
      "source": [
        "corr_df=df.corr()\n",
        "corr_df"
      ],
      "metadata": {
        "colab": {
          "base_uri": "https://localhost:8080/",
          "height": 206
        },
        "id": "DhSSIJ9WmOOF",
        "outputId": "ba8269ba-c87c-46f5-a66f-005e2b70efa1"
      },
      "execution_count": 95,
      "outputs": [
        {
          "output_type": "execute_result",
          "data": {
            "text/plain": [
              "                     MolLogP     MolWt  NumRotatableBonds  AromaticProportion  \\\n",
              "MolLogP             1.000000  0.468097           0.205607            0.250977   \n",
              "MolWt               0.468097  1.000000           0.394219            0.098855   \n",
              "NumRotatableBonds   0.205607  0.394219           1.000000           -0.296737   \n",
              "AromaticProportion  0.250977  0.098855          -0.296737            1.000000   \n",
              "logS               -0.827959 -0.637324          -0.238508           -0.268108   \n",
              "\n",
              "                        logS  \n",
              "MolLogP            -0.827959  \n",
              "MolWt              -0.637324  \n",
              "NumRotatableBonds  -0.238508  \n",
              "AromaticProportion -0.268108  \n",
              "logS                1.000000  "
            ],
            "text/html": [
              "\n",
              "  <div id=\"df-cdeb4767-8fb8-4eb1-92ee-83446d88cc14\">\n",
              "    <div class=\"colab-df-container\">\n",
              "      <div>\n",
              "<style scoped>\n",
              "    .dataframe tbody tr th:only-of-type {\n",
              "        vertical-align: middle;\n",
              "    }\n",
              "\n",
              "    .dataframe tbody tr th {\n",
              "        vertical-align: top;\n",
              "    }\n",
              "\n",
              "    .dataframe thead th {\n",
              "        text-align: right;\n",
              "    }\n",
              "</style>\n",
              "<table border=\"1\" class=\"dataframe\">\n",
              "  <thead>\n",
              "    <tr style=\"text-align: right;\">\n",
              "      <th></th>\n",
              "      <th>MolLogP</th>\n",
              "      <th>MolWt</th>\n",
              "      <th>NumRotatableBonds</th>\n",
              "      <th>AromaticProportion</th>\n",
              "      <th>logS</th>\n",
              "    </tr>\n",
              "  </thead>\n",
              "  <tbody>\n",
              "    <tr>\n",
              "      <th>MolLogP</th>\n",
              "      <td>1.000000</td>\n",
              "      <td>0.468097</td>\n",
              "      <td>0.205607</td>\n",
              "      <td>0.250977</td>\n",
              "      <td>-0.827959</td>\n",
              "    </tr>\n",
              "    <tr>\n",
              "      <th>MolWt</th>\n",
              "      <td>0.468097</td>\n",
              "      <td>1.000000</td>\n",
              "      <td>0.394219</td>\n",
              "      <td>0.098855</td>\n",
              "      <td>-0.637324</td>\n",
              "    </tr>\n",
              "    <tr>\n",
              "      <th>NumRotatableBonds</th>\n",
              "      <td>0.205607</td>\n",
              "      <td>0.394219</td>\n",
              "      <td>1.000000</td>\n",
              "      <td>-0.296737</td>\n",
              "      <td>-0.238508</td>\n",
              "    </tr>\n",
              "    <tr>\n",
              "      <th>AromaticProportion</th>\n",
              "      <td>0.250977</td>\n",
              "      <td>0.098855</td>\n",
              "      <td>-0.296737</td>\n",
              "      <td>1.000000</td>\n",
              "      <td>-0.268108</td>\n",
              "    </tr>\n",
              "    <tr>\n",
              "      <th>logS</th>\n",
              "      <td>-0.827959</td>\n",
              "      <td>-0.637324</td>\n",
              "      <td>-0.238508</td>\n",
              "      <td>-0.268108</td>\n",
              "      <td>1.000000</td>\n",
              "    </tr>\n",
              "  </tbody>\n",
              "</table>\n",
              "</div>\n",
              "      <button class=\"colab-df-convert\" onclick=\"convertToInteractive('df-cdeb4767-8fb8-4eb1-92ee-83446d88cc14')\"\n",
              "              title=\"Convert this dataframe to an interactive table.\"\n",
              "              style=\"display:none;\">\n",
              "        \n",
              "  <svg xmlns=\"http://www.w3.org/2000/svg\" height=\"24px\"viewBox=\"0 0 24 24\"\n",
              "       width=\"24px\">\n",
              "    <path d=\"M0 0h24v24H0V0z\" fill=\"none\"/>\n",
              "    <path d=\"M18.56 5.44l.94 2.06.94-2.06 2.06-.94-2.06-.94-.94-2.06-.94 2.06-2.06.94zm-11 1L8.5 8.5l.94-2.06 2.06-.94-2.06-.94L8.5 2.5l-.94 2.06-2.06.94zm10 10l.94 2.06.94-2.06 2.06-.94-2.06-.94-.94-2.06-.94 2.06-2.06.94z\"/><path d=\"M17.41 7.96l-1.37-1.37c-.4-.4-.92-.59-1.43-.59-.52 0-1.04.2-1.43.59L10.3 9.45l-7.72 7.72c-.78.78-.78 2.05 0 2.83L4 21.41c.39.39.9.59 1.41.59.51 0 1.02-.2 1.41-.59l7.78-7.78 2.81-2.81c.8-.78.8-2.07 0-2.86zM5.41 20L4 18.59l7.72-7.72 1.47 1.35L5.41 20z\"/>\n",
              "  </svg>\n",
              "      </button>\n",
              "      \n",
              "  <style>\n",
              "    .colab-df-container {\n",
              "      display:flex;\n",
              "      flex-wrap:wrap;\n",
              "      gap: 12px;\n",
              "    }\n",
              "\n",
              "    .colab-df-convert {\n",
              "      background-color: #E8F0FE;\n",
              "      border: none;\n",
              "      border-radius: 50%;\n",
              "      cursor: pointer;\n",
              "      display: none;\n",
              "      fill: #1967D2;\n",
              "      height: 32px;\n",
              "      padding: 0 0 0 0;\n",
              "      width: 32px;\n",
              "    }\n",
              "\n",
              "    .colab-df-convert:hover {\n",
              "      background-color: #E2EBFA;\n",
              "      box-shadow: 0px 1px 2px rgba(60, 64, 67, 0.3), 0px 1px 3px 1px rgba(60, 64, 67, 0.15);\n",
              "      fill: #174EA6;\n",
              "    }\n",
              "\n",
              "    [theme=dark] .colab-df-convert {\n",
              "      background-color: #3B4455;\n",
              "      fill: #D2E3FC;\n",
              "    }\n",
              "\n",
              "    [theme=dark] .colab-df-convert:hover {\n",
              "      background-color: #434B5C;\n",
              "      box-shadow: 0px 1px 3px 1px rgba(0, 0, 0, 0.15);\n",
              "      filter: drop-shadow(0px 1px 2px rgba(0, 0, 0, 0.3));\n",
              "      fill: #FFFFFF;\n",
              "    }\n",
              "  </style>\n",
              "\n",
              "      <script>\n",
              "        const buttonEl =\n",
              "          document.querySelector('#df-cdeb4767-8fb8-4eb1-92ee-83446d88cc14 button.colab-df-convert');\n",
              "        buttonEl.style.display =\n",
              "          google.colab.kernel.accessAllowed ? 'block' : 'none';\n",
              "\n",
              "        async function convertToInteractive(key) {\n",
              "          const element = document.querySelector('#df-cdeb4767-8fb8-4eb1-92ee-83446d88cc14');\n",
              "          const dataTable =\n",
              "            await google.colab.kernel.invokeFunction('convertToInteractive',\n",
              "                                                     [key], {});\n",
              "          if (!dataTable) return;\n",
              "\n",
              "          const docLinkHtml = 'Like what you see? Visit the ' +\n",
              "            '<a target=\"_blank\" href=https://colab.research.google.com/notebooks/data_table.ipynb>data table notebook</a>'\n",
              "            + ' to learn more about interactive tables.';\n",
              "          element.innerHTML = '';\n",
              "          dataTable['output_type'] = 'display_data';\n",
              "          await google.colab.output.renderOutput(dataTable, element);\n",
              "          const docLink = document.createElement('div');\n",
              "          docLink.innerHTML = docLinkHtml;\n",
              "          element.appendChild(docLink);\n",
              "        }\n",
              "      </script>\n",
              "    </div>\n",
              "  </div>\n",
              "  "
            ]
          },
          "metadata": {},
          "execution_count": 95
        }
      ]
    },
    {
      "cell_type": "code",
      "source": [
        "y=df['logS']\n",
        "y"
      ],
      "metadata": {
        "colab": {
          "base_uri": "https://localhost:8080/"
        },
        "id": "CjgSvprijL14",
        "outputId": "e50ba722-debf-4c56-c83a-38825a2a9422"
      },
      "execution_count": 96,
      "outputs": [
        {
          "output_type": "execute_result",
          "data": {
            "text/plain": [
              "0      -2.180\n",
              "1      -2.000\n",
              "2      -1.740\n",
              "3      -1.480\n",
              "4      -3.040\n",
              "        ...  \n",
              "1139    1.144\n",
              "1140   -4.925\n",
              "1141   -3.893\n",
              "1142   -3.790\n",
              "1143   -2.581\n",
              "Name: logS, Length: 1144, dtype: float64"
            ]
          },
          "metadata": {},
          "execution_count": 96
        }
      ]
    },
    {
      "cell_type": "code",
      "source": [
        "X=df.drop('logS',axis=1)\n",
        "X"
      ],
      "metadata": {
        "colab": {
          "base_uri": "https://localhost:8080/",
          "height": 423
        },
        "id": "JrCQo_hGjL3j",
        "outputId": "c09b743e-5ec9-4068-f10b-99febe4448c8"
      },
      "execution_count": 97,
      "outputs": [
        {
          "output_type": "execute_result",
          "data": {
            "text/plain": [
              "      MolLogP    MolWt  NumRotatableBonds  AromaticProportion\n",
              "0     2.59540  167.850                0.0            0.000000\n",
              "1     2.37650  133.405                0.0            0.000000\n",
              "2     2.59380  167.850                1.0            0.000000\n",
              "3     2.02890  133.405                1.0            0.000000\n",
              "4     2.91890  187.375                1.0            0.000000\n",
              "...       ...      ...                ...                 ...\n",
              "1139  1.98820  287.343                8.0            0.000000\n",
              "1140  3.42130  286.114                2.0            0.333333\n",
              "1141  3.60960  308.333                4.0            0.695652\n",
              "1142  2.56214  354.815                3.0            0.521739\n",
              "1143  2.02164  179.219                1.0            0.461538\n",
              "\n",
              "[1144 rows x 4 columns]"
            ],
            "text/html": [
              "\n",
              "  <div id=\"df-8a24bb01-2704-42cd-bca3-2c9b9180783c\">\n",
              "    <div class=\"colab-df-container\">\n",
              "      <div>\n",
              "<style scoped>\n",
              "    .dataframe tbody tr th:only-of-type {\n",
              "        vertical-align: middle;\n",
              "    }\n",
              "\n",
              "    .dataframe tbody tr th {\n",
              "        vertical-align: top;\n",
              "    }\n",
              "\n",
              "    .dataframe thead th {\n",
              "        text-align: right;\n",
              "    }\n",
              "</style>\n",
              "<table border=\"1\" class=\"dataframe\">\n",
              "  <thead>\n",
              "    <tr style=\"text-align: right;\">\n",
              "      <th></th>\n",
              "      <th>MolLogP</th>\n",
              "      <th>MolWt</th>\n",
              "      <th>NumRotatableBonds</th>\n",
              "      <th>AromaticProportion</th>\n",
              "    </tr>\n",
              "  </thead>\n",
              "  <tbody>\n",
              "    <tr>\n",
              "      <th>0</th>\n",
              "      <td>2.59540</td>\n",
              "      <td>167.850</td>\n",
              "      <td>0.0</td>\n",
              "      <td>0.000000</td>\n",
              "    </tr>\n",
              "    <tr>\n",
              "      <th>1</th>\n",
              "      <td>2.37650</td>\n",
              "      <td>133.405</td>\n",
              "      <td>0.0</td>\n",
              "      <td>0.000000</td>\n",
              "    </tr>\n",
              "    <tr>\n",
              "      <th>2</th>\n",
              "      <td>2.59380</td>\n",
              "      <td>167.850</td>\n",
              "      <td>1.0</td>\n",
              "      <td>0.000000</td>\n",
              "    </tr>\n",
              "    <tr>\n",
              "      <th>3</th>\n",
              "      <td>2.02890</td>\n",
              "      <td>133.405</td>\n",
              "      <td>1.0</td>\n",
              "      <td>0.000000</td>\n",
              "    </tr>\n",
              "    <tr>\n",
              "      <th>4</th>\n",
              "      <td>2.91890</td>\n",
              "      <td>187.375</td>\n",
              "      <td>1.0</td>\n",
              "      <td>0.000000</td>\n",
              "    </tr>\n",
              "    <tr>\n",
              "      <th>...</th>\n",
              "      <td>...</td>\n",
              "      <td>...</td>\n",
              "      <td>...</td>\n",
              "      <td>...</td>\n",
              "    </tr>\n",
              "    <tr>\n",
              "      <th>1139</th>\n",
              "      <td>1.98820</td>\n",
              "      <td>287.343</td>\n",
              "      <td>8.0</td>\n",
              "      <td>0.000000</td>\n",
              "    </tr>\n",
              "    <tr>\n",
              "      <th>1140</th>\n",
              "      <td>3.42130</td>\n",
              "      <td>286.114</td>\n",
              "      <td>2.0</td>\n",
              "      <td>0.333333</td>\n",
              "    </tr>\n",
              "    <tr>\n",
              "      <th>1141</th>\n",
              "      <td>3.60960</td>\n",
              "      <td>308.333</td>\n",
              "      <td>4.0</td>\n",
              "      <td>0.695652</td>\n",
              "    </tr>\n",
              "    <tr>\n",
              "      <th>1142</th>\n",
              "      <td>2.56214</td>\n",
              "      <td>354.815</td>\n",
              "      <td>3.0</td>\n",
              "      <td>0.521739</td>\n",
              "    </tr>\n",
              "    <tr>\n",
              "      <th>1143</th>\n",
              "      <td>2.02164</td>\n",
              "      <td>179.219</td>\n",
              "      <td>1.0</td>\n",
              "      <td>0.461538</td>\n",
              "    </tr>\n",
              "  </tbody>\n",
              "</table>\n",
              "<p>1144 rows × 4 columns</p>\n",
              "</div>\n",
              "      <button class=\"colab-df-convert\" onclick=\"convertToInteractive('df-8a24bb01-2704-42cd-bca3-2c9b9180783c')\"\n",
              "              title=\"Convert this dataframe to an interactive table.\"\n",
              "              style=\"display:none;\">\n",
              "        \n",
              "  <svg xmlns=\"http://www.w3.org/2000/svg\" height=\"24px\"viewBox=\"0 0 24 24\"\n",
              "       width=\"24px\">\n",
              "    <path d=\"M0 0h24v24H0V0z\" fill=\"none\"/>\n",
              "    <path d=\"M18.56 5.44l.94 2.06.94-2.06 2.06-.94-2.06-.94-.94-2.06-.94 2.06-2.06.94zm-11 1L8.5 8.5l.94-2.06 2.06-.94-2.06-.94L8.5 2.5l-.94 2.06-2.06.94zm10 10l.94 2.06.94-2.06 2.06-.94-2.06-.94-.94-2.06-.94 2.06-2.06.94z\"/><path d=\"M17.41 7.96l-1.37-1.37c-.4-.4-.92-.59-1.43-.59-.52 0-1.04.2-1.43.59L10.3 9.45l-7.72 7.72c-.78.78-.78 2.05 0 2.83L4 21.41c.39.39.9.59 1.41.59.51 0 1.02-.2 1.41-.59l7.78-7.78 2.81-2.81c.8-.78.8-2.07 0-2.86zM5.41 20L4 18.59l7.72-7.72 1.47 1.35L5.41 20z\"/>\n",
              "  </svg>\n",
              "      </button>\n",
              "      \n",
              "  <style>\n",
              "    .colab-df-container {\n",
              "      display:flex;\n",
              "      flex-wrap:wrap;\n",
              "      gap: 12px;\n",
              "    }\n",
              "\n",
              "    .colab-df-convert {\n",
              "      background-color: #E8F0FE;\n",
              "      border: none;\n",
              "      border-radius: 50%;\n",
              "      cursor: pointer;\n",
              "      display: none;\n",
              "      fill: #1967D2;\n",
              "      height: 32px;\n",
              "      padding: 0 0 0 0;\n",
              "      width: 32px;\n",
              "    }\n",
              "\n",
              "    .colab-df-convert:hover {\n",
              "      background-color: #E2EBFA;\n",
              "      box-shadow: 0px 1px 2px rgba(60, 64, 67, 0.3), 0px 1px 3px 1px rgba(60, 64, 67, 0.15);\n",
              "      fill: #174EA6;\n",
              "    }\n",
              "\n",
              "    [theme=dark] .colab-df-convert {\n",
              "      background-color: #3B4455;\n",
              "      fill: #D2E3FC;\n",
              "    }\n",
              "\n",
              "    [theme=dark] .colab-df-convert:hover {\n",
              "      background-color: #434B5C;\n",
              "      box-shadow: 0px 1px 3px 1px rgba(0, 0, 0, 0.15);\n",
              "      filter: drop-shadow(0px 1px 2px rgba(0, 0, 0, 0.3));\n",
              "      fill: #FFFFFF;\n",
              "    }\n",
              "  </style>\n",
              "\n",
              "      <script>\n",
              "        const buttonEl =\n",
              "          document.querySelector('#df-8a24bb01-2704-42cd-bca3-2c9b9180783c button.colab-df-convert');\n",
              "        buttonEl.style.display =\n",
              "          google.colab.kernel.accessAllowed ? 'block' : 'none';\n",
              "\n",
              "        async function convertToInteractive(key) {\n",
              "          const element = document.querySelector('#df-8a24bb01-2704-42cd-bca3-2c9b9180783c');\n",
              "          const dataTable =\n",
              "            await google.colab.kernel.invokeFunction('convertToInteractive',\n",
              "                                                     [key], {});\n",
              "          if (!dataTable) return;\n",
              "\n",
              "          const docLinkHtml = 'Like what you see? Visit the ' +\n",
              "            '<a target=\"_blank\" href=https://colab.research.google.com/notebooks/data_table.ipynb>data table notebook</a>'\n",
              "            + ' to learn more about interactive tables.';\n",
              "          element.innerHTML = '';\n",
              "          dataTable['output_type'] = 'display_data';\n",
              "          await google.colab.output.renderOutput(dataTable, element);\n",
              "          const docLink = document.createElement('div');\n",
              "          docLink.innerHTML = docLinkHtml;\n",
              "          element.appendChild(docLink);\n",
              "        }\n",
              "      </script>\n",
              "    </div>\n",
              "  </div>\n",
              "  "
            ]
          },
          "metadata": {},
          "execution_count": 97
        }
      ]
    },
    {
      "cell_type": "code",
      "source": [
        "from sklearn.model_selection import train_test_split"
      ],
      "metadata": {
        "id": "BCfyGkGLmzdU"
      },
      "execution_count": 98,
      "outputs": []
    },
    {
      "cell_type": "code",
      "source": [
        "X_train,X_test,y_train,y_test=train_test_split(X,y,test_size=0.2,random_state=0)"
      ],
      "metadata": {
        "id": "EJNFfoRTm71z"
      },
      "execution_count": 99,
      "outputs": []
    },
    {
      "cell_type": "code",
      "source": [
        "X_train.shape, X_test.shape"
      ],
      "metadata": {
        "colab": {
          "base_uri": "https://localhost:8080/"
        },
        "id": "hc-IurI6nNh-",
        "outputId": "c8ebbbc8-96f1-4c58-a295-17f8af73dde5"
      },
      "execution_count": 100,
      "outputs": [
        {
          "output_type": "execute_result",
          "data": {
            "text/plain": [
              "((915, 4), (229, 4))"
            ]
          },
          "metadata": {},
          "execution_count": 100
        }
      ]
    },
    {
      "cell_type": "code",
      "source": [
        "from sklearn.linear_model import LinearRegression"
      ],
      "metadata": {
        "id": "W2_FiKEanX4c"
      },
      "execution_count": 101,
      "outputs": []
    },
    {
      "cell_type": "code",
      "source": [
        "lr=LinearRegression()\n",
        "lr.fit(X_train,y_train)"
      ],
      "metadata": {
        "colab": {
          "base_uri": "https://localhost:8080/"
        },
        "id": "16D8WcC3nkRw",
        "outputId": "2f5cd233-14dd-4e41-8ac6-561f214d9e4e"
      },
      "execution_count": 102,
      "outputs": [
        {
          "output_type": "execute_result",
          "data": {
            "text/plain": [
              "LinearRegression()"
            ]
          },
          "metadata": {},
          "execution_count": 102
        }
      ]
    },
    {
      "cell_type": "code",
      "source": [
        "y_train_pred=lr.predict(X_train)\n",
        "print(y_train_pred)"
      ],
      "metadata": {
        "colab": {
          "base_uri": "https://localhost:8080/"
        },
        "id": "qlt6kni1n-8C",
        "outputId": "7ba0f789-9a7c-41c3-d9f9-c26090a14fb8"
      },
      "execution_count": 103,
      "outputs": [
        {
          "output_type": "stream",
          "name": "stdout",
          "text": [
            "[-3.21342338e+00 -1.73218656e+00 -2.23292849e+00 -5.62579047e+00\n",
            " -1.88678084e+00  1.07857744e+00 -1.11631983e+00 -2.01121061e+00\n",
            " -2.96930825e+00 -1.76314400e+00 -2.09069614e+00 -3.91238575e+00\n",
            " -4.63409195e+00 -3.91631734e+00 -8.47571046e-01 -2.71591573e+00\n",
            " -3.31867327e+00 -5.29968588e+00 -1.92317160e+00 -4.55236081e+00\n",
            " -1.84917347e+00 -2.67630206e+00 -1.45737356e+00 -6.62515054e+00\n",
            " -1.76068887e+00 -3.16069776e+00 -3.14495014e+00 -2.46118148e+00\n",
            " -1.12748853e+00 -3.21827208e+00 -2.78352943e+00 -3.76282246e+00\n",
            " -6.13353443e+00 -4.97788126e+00 -4.97788126e+00 -5.44786051e+00\n",
            " -1.36504813e+00 -4.48162707e+00 -3.07540645e+00 -2.09518871e+00\n",
            " -1.73513954e+00 -3.53174817e+00 -2.91465990e+00 -3.99459105e+00\n",
            " -1.85833837e+00 -1.84917347e+00  5.84923094e-01 -4.29143470e+00\n",
            " -1.89321737e+00 -2.02876088e+00 -3.03015789e+00 -4.26206440e+00\n",
            " -1.87026060e+00 -2.01121061e+00 -5.63353319e+00 -5.24632131e+00\n",
            " -2.65374134e+00 -1.26616511e+00 -3.64642830e+00 -4.20588211e+00\n",
            " -3.04624950e+00 -4.97788126e+00 -2.67960917e+00 -3.44644667e+00\n",
            " -3.47634170e+00 -1.27415473e+00 -7.19221603e-01 -3.59694645e+00\n",
            " -2.57869307e+00 -1.69071410e+00 -2.18121818e+00 -3.26389658e+00\n",
            " -1.59524321e+00 -5.10179321e+00 -5.05669838e+00 -2.16144691e+00\n",
            " -1.38327540e+00 -3.34163704e+00 -2.40247948e+00 -5.44311690e+00\n",
            " -7.37281139e+00 -1.98132078e+00 -3.37288735e+00 -3.03238701e+00\n",
            " -8.30106385e-01 -5.16087577e+00 -6.70396490e+00 -2.54206065e+00\n",
            " -3.50272868e+00 -1.50419542e+00 -6.48501511e+00 -3.39144300e+00\n",
            " -4.72106921e+00 -1.83779958e+00 -3.36718547e+00 -1.47190657e+00\n",
            " -8.13510192e-01 -2.40598884e+00 -2.29852889e+00 -3.53085023e+00\n",
            "  8.79669531e-02 -6.12878524e+00 -1.92287220e+00 -2.68225943e+00\n",
            " -1.90424550e+00 -3.87974437e+00 -3.70818031e+00 -8.62621755e+00\n",
            "  5.70317818e-01 -1.92287220e+00 -2.09205318e+00 -4.03169799e+00\n",
            " -2.94194480e+00 -7.75056517e+00 -3.07696382e+00 -1.47775759e+00\n",
            " -2.67522031e+00 -1.31995208e+00 -5.23091509e+00 -2.40250408e+00\n",
            " -3.13288195e+00 -8.44833706e+00 -3.53070186e+00 -1.49887600e+00\n",
            " -7.75056517e+00 -2.26508797e+00 -3.86777467e-01 -2.59208216e+00\n",
            " -2.67522031e+00 -2.60173126e+00 -1.86223109e+00 -1.86163060e+00\n",
            " -2.26115852e+00 -3.81626678e+00 -4.55236081e+00 -2.64481470e+00\n",
            " -5.91772467e+00 -1.49462696e+00 -7.75056517e+00 -3.04624950e+00\n",
            " -1.38327540e+00 -4.46691009e+00 -3.47789161e+00 -1.59476507e+00\n",
            " -8.73590632e-01 -2.48097022e+00 -3.04868971e+00 -2.32065111e+00\n",
            " -1.63228386e+00 -3.36277909e+00 -2.09499355e+00 -2.59634613e+00\n",
            " -3.22484920e+00 -7.75056517e+00 -3.77628217e+00 -2.25221832e+00\n",
            " -5.33529071e+00 -3.33244913e+00 -2.51920078e+00 -3.34432121e+00\n",
            " -4.34426878e+00 -1.07906643e+00 -2.24450706e+00 -2.55561795e+00\n",
            " -4.92819994e+00 -8.29129144e-01 -4.91142241e+00 -1.62657801e+00\n",
            " -4.93656225e+00 -1.71217172e+00 -2.91272542e+00 -4.79441285e+00\n",
            " -4.13721675e+00 -3.69099319e+00 -2.01953882e+00 -1.91068203e+00\n",
            " -1.73434624e+00 -4.97788126e+00 -4.33050587e+00 -3.60877947e+00\n",
            " -1.78626988e+00 -2.75749640e+00 -2.40143917e+00  1.78227501e+00\n",
            " -5.12555345e+00 -2.31942885e+00 -2.19264571e+00 -1.84849201e+00\n",
            " -5.84491203e-01 -3.07600957e+00 -1.41582576e+00 -2.63332133e+00\n",
            " -2.04988295e+00 -1.63201847e+00 -2.27235997e+00 -1.83779958e+00\n",
            " -2.30908980e+00 -5.01848112e-01 -1.85161361e+00 -3.77243064e+00\n",
            " -5.36408847e+00 -2.59424184e+00 -2.63052578e+00 -3.60902278e+00\n",
            " -2.01121061e+00 -1.81937807e+00 -1.51605157e+00 -3.21827208e+00\n",
            " -4.25669061e+00 -4.63409195e+00 -4.53835322e+00 -7.75056517e+00\n",
            " -6.55717372e+00 -2.16302517e+00 -3.26490811e+00 -2.01953882e+00\n",
            " -2.15802730e+00 -2.00915923e+00 -2.61976231e+00 -8.25684982e-02\n",
            " -4.45282931e+00 -1.31109537e-01 -3.22981150e+00 -3.37920362e+00\n",
            " -6.45655806e+00 -2.21001594e+00 -2.41004621e+00 -5.68284026e+00\n",
            " -2.24460180e+00 -2.65541785e+00 -4.15415214e+00 -2.69438199e+00\n",
            " -1.75494989e+00 -3.69924089e+00 -5.72940580e-01 -1.90494321e+00\n",
            " -9.93037003e-01 -1.10846241e+00 -2.42408502e+00 -4.36928717e+00\n",
            " -3.73768066e+00 -5.66755554e+00 -2.26197172e+00 -3.85470873e+00\n",
            " -2.16159384e+00 -6.23736337e-01 -4.97788126e+00 -6.03126110e+00\n",
            " -3.04595456e+00 -4.99427797e+00 -1.99608184e+00  7.67928332e-01\n",
            " -1.39479051e+00 -5.66755554e+00 -1.96071839e+00 -2.03811156e+00\n",
            " -4.73103598e+00 -2.73338540e+00 -4.59108516e+00 -5.85604800e+00\n",
            " -8.86352074e-01 -3.68787693e+00 -5.22361961e+00 -3.60877947e+00\n",
            " -1.35074961e+00 -4.24247478e+00 -4.55236081e+00 -4.34041022e-01\n",
            " -3.79705831e+00 -2.75926148e-01 -1.20254871e+00 -7.04473780e+00\n",
            " -7.78351322e-01 -4.61663076e+00 -2.61449583e+00 -7.66646064e-01\n",
            " -5.04414847e+00 -4.20660521e-01 -5.32271703e+00 -2.15802730e+00\n",
            " -1.95304552e+00 -3.99270974e+00 -2.31348303e+00 -3.78810933e+00\n",
            " -3.77712819e+00 -2.73274564e+00 -1.66249803e+00 -1.55784185e+00\n",
            " -4.14503458e+00 -1.83599466e+00 -2.01121061e+00 -2.10496034e+00\n",
            " -1.79911594e-01 -1.05486796e+01 -1.56202974e+00 -1.47515219e+00\n",
            " -2.25221832e+00 -5.79640437e-01 -6.04095048e+00 -4.43187045e+00\n",
            " -2.79555733e-02 -3.94426470e+00 -6.06605095e+00 -1.43990890e+00\n",
            " -5.52778747e+00 -3.77628217e+00 -2.10496034e+00 -2.86489123e+00\n",
            " -3.22484920e+00 -5.23676958e+00 -1.59527557e+00 -3.79746350e+00\n",
            " -2.37000170e+00 -4.01533160e+00 -6.03126110e+00 -9.88591520e-01\n",
            " -6.04095048e+00 -2.44682606e+00 -3.90490757e+00 -4.12515795e+00\n",
            " -4.46656884e+00 -2.09424762e+00 -2.76332195e+00 -2.81811325e+00\n",
            " -1.90424550e+00 -5.25994776e+00 -6.02310418e+00 -3.77628217e+00\n",
            " -7.05430887e+00 -4.13201946e+00 -3.44808367e+00 -5.21753206e+00\n",
            " -1.99697571e+00 -2.18624127e+00 -1.28698907e+00 -9.14739720e+00\n",
            " -2.03110523e+00 -2.96625186e+00 -2.28371467e+00 -3.15554085e+00\n",
            " -2.32690150e+00 -5.07231092e+00 -2.93170088e+00 -2.62593044e+00\n",
            " -7.18223963e-01 -1.39072531e+00 -1.10652447e+00 -2.98757935e+00\n",
            " -4.85058006e+00 -3.12246403e+00 -4.77352059e+00  1.78954965e+00\n",
            " -2.60476000e+00 -3.36277909e+00 -3.61216041e+00 -2.31367899e+00\n",
            " -2.12304947e+00 -3.90092731e+00 -3.29254335e+00 -4.46691009e+00\n",
            " -4.77353267e+00 -7.05430887e+00 -4.57544111e+00 -8.04253436e-01\n",
            " -1.86745643e+00 -2.43038820e+00 -2.30908980e+00 -4.12630136e+00\n",
            " -1.84073438e+00 -3.21441959e+00 -3.44196159e+00 -2.68225943e+00\n",
            " -1.56761348e+00 -4.34490724e-01 -1.20798826e+00 -4.69963525e+00\n",
            " -4.14625359e+00 -2.67703408e+00 -4.88736535e+00  5.29528756e-01\n",
            " -3.74034220e+00 -5.12538055e+00 -1.30165556e+00 -4.30112314e+00\n",
            " -3.82201095e+00  1.88024728e+00 -4.20019705e+00 -2.69056442e+00\n",
            " -6.58309616e+00 -5.90141679e-01 -1.46736694e+00 -2.65412973e+00\n",
            " -4.85109062e+00 -8.21718097e-01 -3.22484920e+00 -6.09675192e+00\n",
            " -2.39689043e+00 -1.54340303e+00 -9.95989938e-01 -4.50371866e+00\n",
            " -2.57547914e+00 -2.09747231e+00 -2.83434181e+00 -2.44383442e+00\n",
            " -1.11430972e+00 -2.82703575e+00  7.50130929e-01 -2.30908980e+00\n",
            " -3.11119069e+00 -4.71923922e+00 -6.41278498e+00 -2.38566933e+00\n",
            " -9.95989938e-01 -5.10513725e+00 -6.35985235e+00 -3.09010458e+00\n",
            " -2.09627850e+00 -4.26285485e+00 -6.00668146e+00 -1.62200012e+00\n",
            " -1.69262132e+00 -4.55236081e+00 -1.88366459e+00 -4.36632715e+00\n",
            " -3.74693418e+00 -3.75328648e+00 -2.60534953e+00 -2.85866276e+00\n",
            " -2.01953882e+00 -2.80331817e+00 -6.56217497e+00 -4.63409195e+00\n",
            " -3.69314847e+00 -5.06882905e-01 -7.21903999e+00 -2.72639873e+00\n",
            " -1.49887600e+00 -3.71264997e+00 -3.28295641e+00 -3.15433296e+00\n",
            " -1.92845595e+00 -2.32655182e+00 -2.60846578e+00 -6.52257172e+00\n",
            " -4.21935176e+00 -3.23106958e+00 -2.29782331e+00 -3.12894004e+00\n",
            " -1.63228386e+00 -6.97937061e+00 -1.52528078e+00 -4.71910046e+00\n",
            "  2.96900671e-01 -5.46193672e+00 -1.15628629e+00 -2.64338576e+00\n",
            " -2.18960748e+00 -3.33980683e+00 -1.25413157e+00 -3.32917614e+00\n",
            " -1.89532853e+00 -2.77465387e+00 -4.52060572e+00  1.37301477e+00\n",
            " -2.13715029e+00 -2.76809757e+00 -4.12806521e+00 -1.92287220e+00\n",
            " -1.03008091e+00 -9.64182971e-01 -1.53092145e+00 -3.26431923e+00\n",
            " -4.52344436e+00 -1.68112473e+00 -1.48599364e+00 -6.37005807e-01\n",
            " -2.44383442e+00 -1.96071839e+00 -2.47565346e+00 -2.69080628e+00\n",
            " -4.24057226e-01 -4.03886697e+00 -3.09010458e+00 -3.15974097e+00\n",
            " -3.69742971e+00 -1.98761956e+00 -1.86805102e+00 -2.81687364e+00\n",
            " -2.66410230e+00 -1.24719454e+00 -1.82431844e+00 -2.24758064e+00\n",
            " -4.25177573e+00 -7.05430887e+00 -3.34761538e+00 -1.84917347e+00\n",
            " -9.39806756e+00 -2.49636694e+00 -1.73872957e+00 -1.45853560e+00\n",
            " -1.10493836e+00 -1.52404929e+00 -4.68462051e+00 -4.64174838e+00\n",
            " -4.19921161e+00 -5.31312720e+00 -5.45838113e+00 -3.91117674e+00\n",
            " -4.46561047e+00 -6.45655806e+00 -2.50585968e+00 -3.77628217e+00\n",
            " -6.93498629e+00 -2.09164089e+00 -5.73819488e+00 -3.90800014e+00\n",
            " -6.61082420e+00 -3.78166541e+00 -5.32706197e+00 -6.94759331e+00\n",
            " -1.46270472e+00 -4.94171291e+00 -3.38873122e+00 -3.89228354e+00\n",
            " -4.66176795e+00 -3.05228134e+00 -4.01422828e+00 -4.20352441e+00\n",
            " -3.81626678e+00 -3.35574806e+00 -4.17227716e+00 -4.09723850e+00\n",
            " -1.84917347e+00 -3.26642682e+00 -3.89029857e+00 -7.15389829e+00\n",
            " -2.26508797e+00 -1.92317160e+00 -4.68376420e+00 -4.21180996e+00\n",
            " -3.65511154e+00 -2.68834336e+00 -2.68027132e+00 -2.13785740e+00\n",
            " -2.25405984e+00 -5.33445830e+00 -1.82820941e+00 -5.73960835e+00\n",
            " -3.25716457e+00 -1.15290573e+00 -2.01427047e+00 -1.58113511e+00\n",
            " -1.27413736e-01 -3.79754950e+00 -2.29175204e+00 -1.06900089e+00\n",
            " -4.04159269e+00 -1.68079454e+00 -2.50535595e+00 -2.83594232e+00\n",
            " -1.68079454e+00 -1.47775759e+00 -5.43737166e+00 -3.15347733e+00\n",
            " -1.03008091e+00 -1.83014734e+00 -2.29175204e+00 -1.41155047e+00\n",
            "  1.89771194e+00 -3.42865548e+00 -2.21001594e+00 -4.34268287e+00\n",
            " -4.72937421e+00 -2.88506610e+00 -1.66249803e+00 -2.04461585e+00\n",
            " -5.60716377e+00 -1.18997161e+00 -1.64529041e+00 -5.87394894e-01\n",
            " -2.64338576e+00 -5.96095772e+00 -3.39752434e-01 -1.54340303e+00\n",
            " -4.19311436e+00 -2.94262802e+00 -7.75056517e+00 -6.60145463e+00\n",
            " -7.30918872e-01 -6.12680623e+00 -1.48833100e+00 -1.74411787e+00\n",
            " -8.61354748e+00 -7.05430887e+00 -3.09010458e+00 -4.37549331e+00\n",
            " -1.00420566e+00 -2.29175204e+00 -2.14501386e+00 -3.38332956e+00\n",
            " -9.59109606e-01 -4.13721675e+00 -5.63353319e+00 -1.54419222e+00\n",
            " -1.57684395e+00 -2.37000170e+00 -2.24762331e+00 -5.05669838e+00\n",
            " -2.43935981e+00 -3.60296086e+00 -2.68225943e+00 -2.80355419e+00\n",
            " -1.65808840e+00 -3.38401089e+00 -1.19025840e+00 -4.54029446e+00\n",
            " -4.27351429e+00 -3.39309728e+00 -2.24758064e+00 -6.05332091e+00\n",
            " -1.64721981e+00 -1.96887948e+00 -1.59524321e+00 -3.33253241e+00\n",
            "  8.49683982e-01 -2.57085841e+00 -5.14212346e+00 -1.12748853e+00\n",
            " -3.67993179e+00  6.46973867e-01 -6.64939839e+00 -8.40760912e-01\n",
            " -3.82406681e+00 -1.43990890e+00 -3.40017500e+00 -7.10984338e+00\n",
            " -7.03116476e+00 -1.90883632e+00 -2.59424184e+00 -3.35574806e+00\n",
            " -3.24852470e-01 -1.30610576e+00 -2.33486269e+00 -7.05430887e+00\n",
            " -1.43990890e+00 -2.54560490e+00 -4.60129703e-01 -3.12214459e+00\n",
            " -4.43410967e-01 -1.45314302e+00 -2.92418131e+00 -4.13762661e+00\n",
            "  2.42240911e+00 -2.70560547e+00 -1.86957807e+00 -2.83401071e+00\n",
            " -3.81674607e+00 -3.77628217e+00 -2.50585968e+00 -2.06185439e+00\n",
            " -7.91028706e-01 -6.36737354e+00 -3.21577165e+00 -1.97909685e+00\n",
            " -3.22248773e+00 -6.35985235e+00 -1.80044691e+00 -3.59694645e+00\n",
            " -1.18256057e+00 -3.12246403e+00 -1.06239507e+00 -1.59476507e+00\n",
            " -2.79173823e+00 -4.22263076e+00 -3.99270974e+00 -3.69243096e+00\n",
            " -1.45737356e+00 -5.81500640e+00 -2.34444961e+00 -1.60803701e+00\n",
            " -2.91265439e+00 -1.69160708e+00 -9.62166707e-01 -2.50585968e+00\n",
            " -2.97574478e+00 -4.25307650e+00 -2.67703408e+00 -3.33258021e+00\n",
            " -2.29500862e+00 -1.64236235e+00 -5.71089364e+00 -3.03904635e+00\n",
            " -1.96652107e+00 -1.50577211e+00 -1.66453932e+00 -1.48833100e+00\n",
            " -1.86745643e+00 -2.78132406e+00 -2.79589919e+00 -2.55767960e+00\n",
            " -2.92819331e+00 -2.95390931e+00 -2.83014334e+00 -1.38238174e+00\n",
            " -2.16573905e+00 -6.35985235e+00 -5.04414847e+00 -4.27134511e+00\n",
            " -1.54004327e+00 -1.35683241e+00 -2.04163701e+00 -1.33270255e+00\n",
            " -5.25706974e+00 -3.89215986e+00 -3.08620089e+00 -2.09627850e+00\n",
            " -4.19030845e+00 -6.03126110e+00 -2.06721712e+00 -2.13244211e+00\n",
            " -1.57613837e+00 -3.72070797e+00 -3.68905500e+00 -3.83872131e+00\n",
            "  1.68060201e+00  3.99003292e-01 -2.64374679e+00 -2.54731908e+00\n",
            " -3.73725098e+00 -1.69896730e+00 -2.89179071e+00 -1.20118727e+00\n",
            "  1.88024728e+00 -1.28302886e+00 -1.86907828e+00 -2.72024454e+00\n",
            " -1.90424550e+00 -1.97266708e+00 -7.29392663e-01 -7.74289133e-01\n",
            " -2.40725510e+00 -5.73819488e+00 -1.64387133e+00 -5.66755554e+00\n",
            " -7.30810938e-01 -3.12416442e+00 -5.56415448e+00 -5.22000960e+00\n",
            " -4.29143470e+00 -3.65511154e+00 -4.67011916e+00 -1.34551434e+00\n",
            " -1.58966371e+00 -1.64523548e+00 -4.90101247e+00 -1.23392260e+00\n",
            " -9.40482906e-01 -2.05173883e+00 -6.35985235e+00 -4.29893138e+00\n",
            " -4.94847892e+00 -2.02334049e+00 -3.44969731e+00 -4.04159269e+00\n",
            " -4.78611490e+00 -2.92109146e+00 -2.93746283e+00 -9.14739720e+00\n",
            " -6.45655806e+00 -5.29542899e-01 -5.39256770e+00 -2.35921858e+00\n",
            " -2.84509917e+00 -1.16509591e+00 -4.46691009e+00 -3.49863740e+00\n",
            " -5.66755554e+00 -2.25735227e+00 -3.51129830e+00 -8.02690601e+00\n",
            " -3.71597025e+00 -3.60877947e+00 -1.45953324e+00 -2.38319227e+00\n",
            " -2.49328458e+00 -1.40230153e+00 -6.61805270e+00 -1.47716230e+00\n",
            " -4.96707576e+00 -3.45953605e+00 -1.93995968e+00 -2.95123138e+00\n",
            " -1.63228386e+00 -2.46405309e+00 -2.93848349e+00 -5.71838856e+00\n",
            " -4.12630136e+00 -2.81687364e+00 -3.90809958e+00 -4.20505444e+00\n",
            " -3.72326697e+00 -1.09653109e+00 -3.52410540e+00 -8.78231259e+00\n",
            " -2.41004621e+00 -5.38613767e+00 -2.73338540e+00 -2.79397647e+00\n",
            " -3.84627807e+00 -3.90490757e+00 -3.60000513e+00 -2.00471379e+00\n",
            " -5.47613263e+00 -5.43737166e+00  1.68060201e+00 -4.75979588e+00\n",
            " -1.43990890e+00 -2.51246742e+00 -5.67678796e+00 -8.44833706e+00\n",
            " -4.80213174e+00 -1.82037571e+00 -2.93848349e+00 -7.74289133e-01\n",
            " -7.75056517e+00 -1.49077115e+00 -5.80322642e+00 -6.64939839e+00\n",
            " -9.77364949e-01 -2.59715623e+00 -1.85345932e+00 -3.16525433e+00\n",
            " -4.03136052e-01 -1.86745643e+00 -2.04830854e-01 -7.70772545e-03\n",
            " -1.64746544e+00 -5.66755554e+00 -4.68001091e+00 -3.52314543e+00\n",
            " -4.61890585e+00 -4.99177156e+00 -4.42510908e+00 -2.97687889e+00\n",
            " -3.70426660e+00 -2.14501386e+00 -2.88492136e+00 -7.82605221e-01\n",
            " -3.94952324e+00 -2.68964424e+00 -2.26299719e+00 -2.41004621e+00\n",
            " -5.13436306e+00 -3.54390918e+00 -2.44383442e+00 -7.10704524e+00\n",
            " -3.25849048e+00 -4.34470406e+00 -1.88177822e+00 -3.40568224e+00\n",
            " -2.28371467e+00 -3.59907419e+00 -4.60875628e-01 -2.31367899e+00\n",
            " -4.17789333e+00 -9.50196339e-01 -2.10496034e+00 -9.31958020e-01\n",
            " -2.67703408e+00 -6.80815176e-01 -4.56224374e+00  2.99626400e-01\n",
            " -6.35985235e+00 -3.95473670e+00 -2.15802730e+00 -2.78549213e+00\n",
            " -2.51928649e+00 -2.56750605e+00 -5.66755554e+00 -1.37350377e+00\n",
            " -5.43733591e-01 -1.66514668e+00 -1.48864230e+00 -4.88627078e+00\n",
            " -5.70443677e+00 -4.79948675e+00 -3.15554085e+00 -3.29254335e+00\n",
            " -1.86629554e+00 -2.48534076e+00 -2.84211628e+00 -3.04770495e+00\n",
            " -1.53237490e+00 -8.43176620e-01 -4.56224374e+00 -4.41267813e+00\n",
            " -4.41281434e+00 -2.91852207e+00 -1.77108922e+00 -1.86811147e+00\n",
            " -6.91871963e-01 -1.83684273e+00 -1.36689865e+00 -3.34185353e-01\n",
            " -1.46321470e+00 -2.04163701e+00 -4.31278116e+00 -2.62516707e+00\n",
            " -3.41247610e+00 -3.55450073e+00 -4.71184862e+00 -7.46857324e-01\n",
            " -4.39301997e+00 -7.99002864e+00 -2.35117177e+00]\n"
          ]
        }
      ]
    },
    {
      "cell_type": "code",
      "source": [
        "y_test_pred=lr.predict(X_test)\n",
        "y_test_pred"
      ],
      "metadata": {
        "colab": {
          "base_uri": "https://localhost:8080/"
        },
        "id": "vYON-1nBn-9z",
        "outputId": "416015bb-64a2-4966-d49a-060514693927"
      },
      "execution_count": 104,
      "outputs": [
        {
          "output_type": "execute_result",
          "data": {
            "text/plain": [
              "array([-6.41144928, -4.97788126, -2.57085841, -0.03093276, -7.75056517,\n",
              "       -4.27168704, -4.59108516, -2.34826294, -3.7355082 , -1.4399089 ,\n",
              "       -3.01237143, -3.4766317 , -3.65511154, -1.21906804, -2.31367899,\n",
              "       -3.31495041, -4.62953546, -2.3090898 , -0.52792829, -3.23796627,\n",
              "       -4.13721675, -2.72044544, -4.59108516, -3.03015789, -2.38418296,\n",
              "       -2.28929842, -3.09010458, -5.06795793, -1.86223109, -5.1978992 ,\n",
              "       -1.47775759, -1.10493836, -1.9231716 , -2.95448802, -2.62844116,\n",
              "       -4.40817235, -2.09518871, -1.7526042 , -1.31995208, -3.10916159,\n",
              "       -2.37945851, -3.50903679, -2.55561795, -0.76664606, -1.35683241,\n",
              "       -3.542743  , -3.55957191, -3.21854633, -0.54271722, -0.90489307,\n",
              "       -3.37288735, -4.25669061, -2.32972195, -2.3478006 , -3.26374559,\n",
              "       -1.59524321, -4.04219576, -2.19683713, -2.64130989, -1.32993829,\n",
              "       -1.40680071, -2.8242033 , -4.34856277, -7.23301274, -3.38819227,\n",
              "       -6.00032273, -7.23926977, -4.01660997, -3.72038638, -5.78964287,\n",
              "       -3.65511154, -3.03977125, -4.801015  , -4.30667428, -1.29280049,\n",
              "       -2.13392629, -3.82406681, -2.3996898 , -1.71767488, -1.19312295,\n",
              "       -2.41822644, -5.95515899, -3.88309743, -2.7333854 , -1.60938488,\n",
              "       -2.27897869, -0.95323338, -4.14280124, -5.03398261, -2.91272542,\n",
              "       -2.61903844, -2.3272221 , -2.99406231, -5.43737166, -5.96095772,\n",
              "       -0.50184811, -6.02806796, -3.85243273, -3.34039343, -1.12748853,\n",
              "       -3.5112983 , -2.01121061, -1.07193861, -1.70598976, -0.77343749,\n",
              "       -2.66164462, -1.74996519, -1.47713857, -1.09023513, -4.16105846,\n",
              "       -7.70879766, -3.16296807, -3.75328648, -0.10842145, -7.63447271,\n",
              "       -2.67462693, -5.23091509, -4.44305855, -2.61490231,  1.35555011,\n",
              "       -3.90490757, -5.92587588, -2.25355912, -1.14495319, -4.12818805,\n",
              "       -2.47465787, -3.37979746, -2.21851209, -3.08937285, -1.488331  ,\n",
              "       -4.11096235, -3.4132872 , -1.86546281, -2.40823005, -1.96964913,\n",
              "       -1.56202974, -1.66216784, -4.1501308 , -0.46926392, -1.26616511,\n",
              "       -6.67729624, -1.30132538, -3.07473378, -1.18256057, -2.16803036,\n",
              "       -3.49766682, -5.32458251, -4.9716454 , -4.50809713, -2.55353256,\n",
              "       -2.45161129, -4.78027667, -2.72947367, -4.85743693, -1.52593837,\n",
              "       -5.60822139, -3.74625545, -2.90290312, -2.46405309, -5.28171309,\n",
              "       -3.33658725, -2.61536923, -0.43366714, -4.86210224, -1.75186228,\n",
              "       -1.47775759,  0.19654983, -3.26642682, -2.83434181, -2.36555626,\n",
              "       -5.96095772, -5.25524364, -5.38377653, -3.68742092, -0.40580359,\n",
              "       -3.15433296, -1.49261685, -2.81811325, -6.93498629, -5.68917409,\n",
              "       -4.73622905, -3.89169965, -3.65511154, -2.58577725, -5.65074705,\n",
              "       -0.39466228, -2.72937802, -3.0872412 , -0.43362002, -2.76332195,\n",
              "       -4.19640999, -3.0290556 , -1.09869077, -1.77108922, -3.63263443,\n",
              "       -4.79948675,  1.12665666, -0.57376421, -2.34451687, -5.10207008,\n",
              "       -1.22023008, -2.00588515, -4.35602427, -3.32535553, -1.07906643,\n",
              "       -3.65338582, -0.36855019, -3.99270974, -1.23574676, -2.4429997 ,\n",
              "       -0.92218639, -2.07984361, -1.30610576, -2.93170088, -0.20421616,\n",
              "       -1.66249803, -1.77108922, -0.78260522, -3.70896139, -3.09010458,\n",
              "       -2.73905392, -5.409996  , -3.81626678, -0.74761994, -2.59413745,\n",
              "       -8.44833706, -2.47726033, -0.19429504, -4.6521447 ])"
            ]
          },
          "metadata": {},
          "execution_count": 104
        }
      ]
    },
    {
      "cell_type": "code",
      "source": [
        ""
      ],
      "metadata": {
        "id": "gtp5Uff0pIOR"
      },
      "execution_count": 104,
      "outputs": []
    },
    {
      "cell_type": "code",
      "source": [
        "lr.intercept_"
      ],
      "metadata": {
        "colab": {
          "base_uri": "https://localhost:8080/"
        },
        "id": "ds-Hj0M1perQ",
        "outputId": "5cbe007e-3b9c-4d0d-ccce-d0d8eddacc9c"
      },
      "execution_count": 105,
      "outputs": [
        {
          "output_type": "execute_result",
          "data": {
            "text/plain": [
              "0.23219916211711533"
            ]
          },
          "metadata": {},
          "execution_count": 105
        }
      ]
    },
    {
      "cell_type": "code",
      "source": [
        "lr.coef_"
      ],
      "metadata": {
        "colab": {
          "base_uri": "https://localhost:8080/"
        },
        "id": "tOULsOcxpwQB",
        "outputId": "957afb37-1d4b-47eb-cc64-7df58617cef8"
      },
      "execution_count": 106,
      "outputs": [
        {
          "output_type": "execute_result",
          "data": {
            "text/plain": [
              "array([-0.72627463, -0.0068546 ,  0.0186267 , -0.36715288])"
            ]
          },
          "metadata": {},
          "execution_count": 106
        }
      ]
    },
    {
      "cell_type": "code",
      "source": [
        ""
      ],
      "metadata": {
        "id": "TWeEH4T-pwRx"
      },
      "execution_count": 106,
      "outputs": []
    },
    {
      "cell_type": "code",
      "source": [
        "from sklearn.metrics import mean_squared_error,r2_score"
      ],
      "metadata": {
        "id": "JNLxNDlNoyXp"
      },
      "execution_count": 107,
      "outputs": []
    },
    {
      "cell_type": "code",
      "source": [
        "train_mse, train_r2_score=mean_squared_error(y_train,y_train_pred),  r2_score(y_train,y_train_pred)\n",
        "print(train_mse,train_r2_score)"
      ],
      "metadata": {
        "colab": {
          "base_uri": "https://localhost:8080/"
        },
        "id": "UCIdkvngp3Cq",
        "outputId": "9915773b-71b3-457a-9672-ca7431d33109"
      },
      "execution_count": 108,
      "outputs": [
        {
          "output_type": "stream",
          "name": "stdout",
          "text": [
            "1.009472241515891 0.7692295963594564\n"
          ]
        }
      ]
    },
    {
      "cell_type": "code",
      "source": [
        "test_mse, test_r2_score=mean_squared_error(y_test,y_test_pred),  r2_score(y_test,y_test_pred)\n",
        "\n",
        "print(test_mse, test_r2_score)"
      ],
      "metadata": {
        "colab": {
          "base_uri": "https://localhost:8080/"
        },
        "id": "Xh0_djfRqj4L",
        "outputId": "f29262e0-4106-4c12-a3ff-c2e0db0eec28"
      },
      "execution_count": 109,
      "outputs": [
        {
          "output_type": "stream",
          "name": "stdout",
          "text": [
            "1.0221891674104264 0.7707918869245227\n"
          ]
        }
      ]
    },
    {
      "cell_type": "code",
      "source": [
        "lr_results=pd.DataFrame(['Linear Regression',train_mse,test_mse,train_r2_score,test_r2_score]).transpose()\n",
        "lr_results.columns=['Method','Training Mse','Testing Mse','Traing R2 score','Testing R2 score']"
      ],
      "metadata": {
        "id": "Lswk79sbrP1W"
      },
      "execution_count": 110,
      "outputs": []
    },
    {
      "cell_type": "code",
      "source": [
        "lr_results"
      ],
      "metadata": {
        "colab": {
          "base_uri": "https://localhost:8080/",
          "height": 81
        },
        "id": "RA-XUf78smgx",
        "outputId": "7c411e47-2408-4d2f-fa8b-a61814e58ff0"
      },
      "execution_count": 111,
      "outputs": [
        {
          "output_type": "execute_result",
          "data": {
            "text/plain": [
              "              Method Training Mse Testing Mse Traing R2 score Testing R2 score\n",
              "0  Linear Regression     1.009472    1.022189         0.76923         0.770792"
            ],
            "text/html": [
              "\n",
              "  <div id=\"df-5bf89fbe-e89b-40ec-8d40-1c5d276d5f8d\">\n",
              "    <div class=\"colab-df-container\">\n",
              "      <div>\n",
              "<style scoped>\n",
              "    .dataframe tbody tr th:only-of-type {\n",
              "        vertical-align: middle;\n",
              "    }\n",
              "\n",
              "    .dataframe tbody tr th {\n",
              "        vertical-align: top;\n",
              "    }\n",
              "\n",
              "    .dataframe thead th {\n",
              "        text-align: right;\n",
              "    }\n",
              "</style>\n",
              "<table border=\"1\" class=\"dataframe\">\n",
              "  <thead>\n",
              "    <tr style=\"text-align: right;\">\n",
              "      <th></th>\n",
              "      <th>Method</th>\n",
              "      <th>Training Mse</th>\n",
              "      <th>Testing Mse</th>\n",
              "      <th>Traing R2 score</th>\n",
              "      <th>Testing R2 score</th>\n",
              "    </tr>\n",
              "  </thead>\n",
              "  <tbody>\n",
              "    <tr>\n",
              "      <th>0</th>\n",
              "      <td>Linear Regression</td>\n",
              "      <td>1.009472</td>\n",
              "      <td>1.022189</td>\n",
              "      <td>0.76923</td>\n",
              "      <td>0.770792</td>\n",
              "    </tr>\n",
              "  </tbody>\n",
              "</table>\n",
              "</div>\n",
              "      <button class=\"colab-df-convert\" onclick=\"convertToInteractive('df-5bf89fbe-e89b-40ec-8d40-1c5d276d5f8d')\"\n",
              "              title=\"Convert this dataframe to an interactive table.\"\n",
              "              style=\"display:none;\">\n",
              "        \n",
              "  <svg xmlns=\"http://www.w3.org/2000/svg\" height=\"24px\"viewBox=\"0 0 24 24\"\n",
              "       width=\"24px\">\n",
              "    <path d=\"M0 0h24v24H0V0z\" fill=\"none\"/>\n",
              "    <path d=\"M18.56 5.44l.94 2.06.94-2.06 2.06-.94-2.06-.94-.94-2.06-.94 2.06-2.06.94zm-11 1L8.5 8.5l.94-2.06 2.06-.94-2.06-.94L8.5 2.5l-.94 2.06-2.06.94zm10 10l.94 2.06.94-2.06 2.06-.94-2.06-.94-.94-2.06-.94 2.06-2.06.94z\"/><path d=\"M17.41 7.96l-1.37-1.37c-.4-.4-.92-.59-1.43-.59-.52 0-1.04.2-1.43.59L10.3 9.45l-7.72 7.72c-.78.78-.78 2.05 0 2.83L4 21.41c.39.39.9.59 1.41.59.51 0 1.02-.2 1.41-.59l7.78-7.78 2.81-2.81c.8-.78.8-2.07 0-2.86zM5.41 20L4 18.59l7.72-7.72 1.47 1.35L5.41 20z\"/>\n",
              "  </svg>\n",
              "      </button>\n",
              "      \n",
              "  <style>\n",
              "    .colab-df-container {\n",
              "      display:flex;\n",
              "      flex-wrap:wrap;\n",
              "      gap: 12px;\n",
              "    }\n",
              "\n",
              "    .colab-df-convert {\n",
              "      background-color: #E8F0FE;\n",
              "      border: none;\n",
              "      border-radius: 50%;\n",
              "      cursor: pointer;\n",
              "      display: none;\n",
              "      fill: #1967D2;\n",
              "      height: 32px;\n",
              "      padding: 0 0 0 0;\n",
              "      width: 32px;\n",
              "    }\n",
              "\n",
              "    .colab-df-convert:hover {\n",
              "      background-color: #E2EBFA;\n",
              "      box-shadow: 0px 1px 2px rgba(60, 64, 67, 0.3), 0px 1px 3px 1px rgba(60, 64, 67, 0.15);\n",
              "      fill: #174EA6;\n",
              "    }\n",
              "\n",
              "    [theme=dark] .colab-df-convert {\n",
              "      background-color: #3B4455;\n",
              "      fill: #D2E3FC;\n",
              "    }\n",
              "\n",
              "    [theme=dark] .colab-df-convert:hover {\n",
              "      background-color: #434B5C;\n",
              "      box-shadow: 0px 1px 3px 1px rgba(0, 0, 0, 0.15);\n",
              "      filter: drop-shadow(0px 1px 2px rgba(0, 0, 0, 0.3));\n",
              "      fill: #FFFFFF;\n",
              "    }\n",
              "  </style>\n",
              "\n",
              "      <script>\n",
              "        const buttonEl =\n",
              "          document.querySelector('#df-5bf89fbe-e89b-40ec-8d40-1c5d276d5f8d button.colab-df-convert');\n",
              "        buttonEl.style.display =\n",
              "          google.colab.kernel.accessAllowed ? 'block' : 'none';\n",
              "\n",
              "        async function convertToInteractive(key) {\n",
              "          const element = document.querySelector('#df-5bf89fbe-e89b-40ec-8d40-1c5d276d5f8d');\n",
              "          const dataTable =\n",
              "            await google.colab.kernel.invokeFunction('convertToInteractive',\n",
              "                                                     [key], {});\n",
              "          if (!dataTable) return;\n",
              "\n",
              "          const docLinkHtml = 'Like what you see? Visit the ' +\n",
              "            '<a target=\"_blank\" href=https://colab.research.google.com/notebooks/data_table.ipynb>data table notebook</a>'\n",
              "            + ' to learn more about interactive tables.';\n",
              "          element.innerHTML = '';\n",
              "          dataTable['output_type'] = 'display_data';\n",
              "          await google.colab.output.renderOutput(dataTable, element);\n",
              "          const docLink = document.createElement('div');\n",
              "          docLink.innerHTML = docLinkHtml;\n",
              "          element.appendChild(docLink);\n",
              "        }\n",
              "      </script>\n",
              "    </div>\n",
              "  </div>\n",
              "  "
            ]
          },
          "metadata": {},
          "execution_count": 111
        }
      ]
    },
    {
      "cell_type": "code",
      "source": [
        "from sklearn.preprocessing import MinMaxScaler\n",
        "df"
      ],
      "metadata": {
        "id": "eqZygl8ysmim",
        "colab": {
          "base_uri": "https://localhost:8080/",
          "height": 423
        },
        "outputId": "50aac87d-f014-411e-d572-b98d17acac55"
      },
      "execution_count": 112,
      "outputs": [
        {
          "output_type": "execute_result",
          "data": {
            "text/plain": [
              "      MolLogP    MolWt  NumRotatableBonds  AromaticProportion   logS\n",
              "0     2.59540  167.850                0.0            0.000000 -2.180\n",
              "1     2.37650  133.405                0.0            0.000000 -2.000\n",
              "2     2.59380  167.850                1.0            0.000000 -1.740\n",
              "3     2.02890  133.405                1.0            0.000000 -1.480\n",
              "4     2.91890  187.375                1.0            0.000000 -3.040\n",
              "...       ...      ...                ...                 ...    ...\n",
              "1139  1.98820  287.343                8.0            0.000000  1.144\n",
              "1140  3.42130  286.114                2.0            0.333333 -4.925\n",
              "1141  3.60960  308.333                4.0            0.695652 -3.893\n",
              "1142  2.56214  354.815                3.0            0.521739 -3.790\n",
              "1143  2.02164  179.219                1.0            0.461538 -2.581\n",
              "\n",
              "[1144 rows x 5 columns]"
            ],
            "text/html": [
              "\n",
              "  <div id=\"df-60d99146-ce14-47c5-a3b2-cf6c391717b2\">\n",
              "    <div class=\"colab-df-container\">\n",
              "      <div>\n",
              "<style scoped>\n",
              "    .dataframe tbody tr th:only-of-type {\n",
              "        vertical-align: middle;\n",
              "    }\n",
              "\n",
              "    .dataframe tbody tr th {\n",
              "        vertical-align: top;\n",
              "    }\n",
              "\n",
              "    .dataframe thead th {\n",
              "        text-align: right;\n",
              "    }\n",
              "</style>\n",
              "<table border=\"1\" class=\"dataframe\">\n",
              "  <thead>\n",
              "    <tr style=\"text-align: right;\">\n",
              "      <th></th>\n",
              "      <th>MolLogP</th>\n",
              "      <th>MolWt</th>\n",
              "      <th>NumRotatableBonds</th>\n",
              "      <th>AromaticProportion</th>\n",
              "      <th>logS</th>\n",
              "    </tr>\n",
              "  </thead>\n",
              "  <tbody>\n",
              "    <tr>\n",
              "      <th>0</th>\n",
              "      <td>2.59540</td>\n",
              "      <td>167.850</td>\n",
              "      <td>0.0</td>\n",
              "      <td>0.000000</td>\n",
              "      <td>-2.180</td>\n",
              "    </tr>\n",
              "    <tr>\n",
              "      <th>1</th>\n",
              "      <td>2.37650</td>\n",
              "      <td>133.405</td>\n",
              "      <td>0.0</td>\n",
              "      <td>0.000000</td>\n",
              "      <td>-2.000</td>\n",
              "    </tr>\n",
              "    <tr>\n",
              "      <th>2</th>\n",
              "      <td>2.59380</td>\n",
              "      <td>167.850</td>\n",
              "      <td>1.0</td>\n",
              "      <td>0.000000</td>\n",
              "      <td>-1.740</td>\n",
              "    </tr>\n",
              "    <tr>\n",
              "      <th>3</th>\n",
              "      <td>2.02890</td>\n",
              "      <td>133.405</td>\n",
              "      <td>1.0</td>\n",
              "      <td>0.000000</td>\n",
              "      <td>-1.480</td>\n",
              "    </tr>\n",
              "    <tr>\n",
              "      <th>4</th>\n",
              "      <td>2.91890</td>\n",
              "      <td>187.375</td>\n",
              "      <td>1.0</td>\n",
              "      <td>0.000000</td>\n",
              "      <td>-3.040</td>\n",
              "    </tr>\n",
              "    <tr>\n",
              "      <th>...</th>\n",
              "      <td>...</td>\n",
              "      <td>...</td>\n",
              "      <td>...</td>\n",
              "      <td>...</td>\n",
              "      <td>...</td>\n",
              "    </tr>\n",
              "    <tr>\n",
              "      <th>1139</th>\n",
              "      <td>1.98820</td>\n",
              "      <td>287.343</td>\n",
              "      <td>8.0</td>\n",
              "      <td>0.000000</td>\n",
              "      <td>1.144</td>\n",
              "    </tr>\n",
              "    <tr>\n",
              "      <th>1140</th>\n",
              "      <td>3.42130</td>\n",
              "      <td>286.114</td>\n",
              "      <td>2.0</td>\n",
              "      <td>0.333333</td>\n",
              "      <td>-4.925</td>\n",
              "    </tr>\n",
              "    <tr>\n",
              "      <th>1141</th>\n",
              "      <td>3.60960</td>\n",
              "      <td>308.333</td>\n",
              "      <td>4.0</td>\n",
              "      <td>0.695652</td>\n",
              "      <td>-3.893</td>\n",
              "    </tr>\n",
              "    <tr>\n",
              "      <th>1142</th>\n",
              "      <td>2.56214</td>\n",
              "      <td>354.815</td>\n",
              "      <td>3.0</td>\n",
              "      <td>0.521739</td>\n",
              "      <td>-3.790</td>\n",
              "    </tr>\n",
              "    <tr>\n",
              "      <th>1143</th>\n",
              "      <td>2.02164</td>\n",
              "      <td>179.219</td>\n",
              "      <td>1.0</td>\n",
              "      <td>0.461538</td>\n",
              "      <td>-2.581</td>\n",
              "    </tr>\n",
              "  </tbody>\n",
              "</table>\n",
              "<p>1144 rows × 5 columns</p>\n",
              "</div>\n",
              "      <button class=\"colab-df-convert\" onclick=\"convertToInteractive('df-60d99146-ce14-47c5-a3b2-cf6c391717b2')\"\n",
              "              title=\"Convert this dataframe to an interactive table.\"\n",
              "              style=\"display:none;\">\n",
              "        \n",
              "  <svg xmlns=\"http://www.w3.org/2000/svg\" height=\"24px\"viewBox=\"0 0 24 24\"\n",
              "       width=\"24px\">\n",
              "    <path d=\"M0 0h24v24H0V0z\" fill=\"none\"/>\n",
              "    <path d=\"M18.56 5.44l.94 2.06.94-2.06 2.06-.94-2.06-.94-.94-2.06-.94 2.06-2.06.94zm-11 1L8.5 8.5l.94-2.06 2.06-.94-2.06-.94L8.5 2.5l-.94 2.06-2.06.94zm10 10l.94 2.06.94-2.06 2.06-.94-2.06-.94-.94-2.06-.94 2.06-2.06.94z\"/><path d=\"M17.41 7.96l-1.37-1.37c-.4-.4-.92-.59-1.43-.59-.52 0-1.04.2-1.43.59L10.3 9.45l-7.72 7.72c-.78.78-.78 2.05 0 2.83L4 21.41c.39.39.9.59 1.41.59.51 0 1.02-.2 1.41-.59l7.78-7.78 2.81-2.81c.8-.78.8-2.07 0-2.86zM5.41 20L4 18.59l7.72-7.72 1.47 1.35L5.41 20z\"/>\n",
              "  </svg>\n",
              "      </button>\n",
              "      \n",
              "  <style>\n",
              "    .colab-df-container {\n",
              "      display:flex;\n",
              "      flex-wrap:wrap;\n",
              "      gap: 12px;\n",
              "    }\n",
              "\n",
              "    .colab-df-convert {\n",
              "      background-color: #E8F0FE;\n",
              "      border: none;\n",
              "      border-radius: 50%;\n",
              "      cursor: pointer;\n",
              "      display: none;\n",
              "      fill: #1967D2;\n",
              "      height: 32px;\n",
              "      padding: 0 0 0 0;\n",
              "      width: 32px;\n",
              "    }\n",
              "\n",
              "    .colab-df-convert:hover {\n",
              "      background-color: #E2EBFA;\n",
              "      box-shadow: 0px 1px 2px rgba(60, 64, 67, 0.3), 0px 1px 3px 1px rgba(60, 64, 67, 0.15);\n",
              "      fill: #174EA6;\n",
              "    }\n",
              "\n",
              "    [theme=dark] .colab-df-convert {\n",
              "      background-color: #3B4455;\n",
              "      fill: #D2E3FC;\n",
              "    }\n",
              "\n",
              "    [theme=dark] .colab-df-convert:hover {\n",
              "      background-color: #434B5C;\n",
              "      box-shadow: 0px 1px 3px 1px rgba(0, 0, 0, 0.15);\n",
              "      filter: drop-shadow(0px 1px 2px rgba(0, 0, 0, 0.3));\n",
              "      fill: #FFFFFF;\n",
              "    }\n",
              "  </style>\n",
              "\n",
              "      <script>\n",
              "        const buttonEl =\n",
              "          document.querySelector('#df-60d99146-ce14-47c5-a3b2-cf6c391717b2 button.colab-df-convert');\n",
              "        buttonEl.style.display =\n",
              "          google.colab.kernel.accessAllowed ? 'block' : 'none';\n",
              "\n",
              "        async function convertToInteractive(key) {\n",
              "          const element = document.querySelector('#df-60d99146-ce14-47c5-a3b2-cf6c391717b2');\n",
              "          const dataTable =\n",
              "            await google.colab.kernel.invokeFunction('convertToInteractive',\n",
              "                                                     [key], {});\n",
              "          if (!dataTable) return;\n",
              "\n",
              "          const docLinkHtml = 'Like what you see? Visit the ' +\n",
              "            '<a target=\"_blank\" href=https://colab.research.google.com/notebooks/data_table.ipynb>data table notebook</a>'\n",
              "            + ' to learn more about interactive tables.';\n",
              "          element.innerHTML = '';\n",
              "          dataTable['output_type'] = 'display_data';\n",
              "          await google.colab.output.renderOutput(dataTable, element);\n",
              "          const docLink = document.createElement('div');\n",
              "          docLink.innerHTML = docLinkHtml;\n",
              "          element.appendChild(docLink);\n",
              "        }\n",
              "      </script>\n",
              "    </div>\n",
              "  </div>\n",
              "  "
            ]
          },
          "metadata": {},
          "execution_count": 112
        }
      ]
    },
    {
      "cell_type": "code",
      "source": [
        "scaler=MinMaxScaler()"
      ],
      "metadata": {
        "id": "5uZm9skhde3P"
      },
      "execution_count": 113,
      "outputs": []
    },
    {
      "cell_type": "code",
      "source": [
        "X_train=scaler.fit_transform(X_train)"
      ],
      "metadata": {
        "id": "FW6nSd6NfICY"
      },
      "execution_count": 114,
      "outputs": []
    },
    {
      "cell_type": "code",
      "source": [
        "X_test=scaler.transform(X_test)"
      ],
      "metadata": {
        "id": "_ar-PbBlfpBj"
      },
      "execution_count": 115,
      "outputs": []
    },
    {
      "cell_type": "code",
      "source": [
        "X_train"
      ],
      "metadata": {
        "colab": {
          "base_uri": "https://localhost:8080/"
        },
        "id": "aNAgqz0xfpDc",
        "outputId": "9b871861-bcc1-4461-db13-6eb23a4aa7a4"
      },
      "execution_count": 116,
      "outputs": [
        {
          "output_type": "execute_result",
          "data": {
            "text/plain": [
              "array([[0.55629176, 0.30103438, 0.        , 0.        ],\n",
              "       [0.5139588 , 0.1309455 , 0.08695652, 0.        ],\n",
              "       [0.55596882, 0.11838448, 0.04347826, 0.        ],\n",
              "       ...,\n",
              "       [0.57269042, 0.45730979, 0.08695652, 0.5       ],\n",
              "       [0.78293875, 0.63950734, 0.26086957, 0.42857143],\n",
              "       [0.52068486, 0.19370354, 0.04347826, 0.5       ]])"
            ]
          },
          "metadata": {},
          "execution_count": 116
        }
      ]
    },
    {
      "cell_type": "code",
      "source": [
        ""
      ],
      "metadata": {
        "id": "smkcLupFglKl"
      },
      "execution_count": 116,
      "outputs": []
    },
    {
      "cell_type": "code",
      "source": [
        ""
      ],
      "metadata": {
        "id": "woo7GfytglMg"
      },
      "execution_count": 116,
      "outputs": []
    },
    {
      "cell_type": "code",
      "source": [
        "X_test"
      ],
      "metadata": {
        "colab": {
          "base_uri": "https://localhost:8080/"
        },
        "id": "bup-vhHZgOHQ",
        "outputId": "255cb571-f225-441e-e3d7-37b15e618215"
      },
      "execution_count": 117,
      "outputs": [
        {
          "output_type": "execute_result",
          "data": {
            "text/plain": [
              "array([[0.74231069, 0.43719751, 0.26086957, 0.46153846],\n",
              "       [0.68105791, 0.27069862, 0.04347826, 0.85714286],\n",
              "       [0.56187639, 0.18590258, 0.26086957, 0.        ],\n",
              "       [0.29834633, 0.31141474, 0.13043478, 0.5       ],\n",
              "       [0.82658129, 0.45082533, 0.04347826, 0.66666667],\n",
              "       [0.5986147 , 0.36649078, 0.08695652, 0.54545455],\n",
              "       [0.66100223, 0.26127524, 0.        , 0.6       ],\n",
              "       [0.56297327, 0.1336138 , 0.17391304, 0.        ],\n",
              "       [0.54270601, 0.43181254, 0.17391304, 0.24      ],\n",
              "       [0.50035078, 0.1126073 , 0.13043478, 0.        ],\n",
              "       [0.50938753, 0.32690945, 0.04347826, 0.8       ],\n",
              "       [0.59190423, 0.20155156, 0.04347826, 0.92307692],\n",
              "       [0.61403341, 0.18327089, 0.        , 0.83333333],\n",
              "       [0.48756682, 0.09163348, 0.        , 0.        ],\n",
              "       [0.52859688, 0.14581007, 0.        , 0.75      ],\n",
              "       [0.56956013, 0.27358917, 0.17391304, 0.4       ],\n",
              "       [0.64508909, 0.32144603, 0.04347826, 0.46153846],\n",
              "       [0.53343207, 0.13874123, 0.        , 0.66666667],\n",
              "       [0.39324053, 0.14779725, 0.        , 0.66666667],\n",
              "       [0.55818486, 0.25914426, 0.13043478, 0.75      ],\n",
              "       [0.62214365, 0.24973918, 0.        , 0.90909091],\n",
              "       [0.519549  , 0.28791512, 0.17391304, 0.35294118],\n",
              "       [0.66100223, 0.26127524, 0.        , 0.6       ],\n",
              "       [0.57880958, 0.17541763, 0.04347826, 0.54545455],\n",
              "       [0.57483853, 0.10739359, 0.13043478, 0.        ],\n",
              "       [0.49679844, 0.29055073, 0.2173913 , 0.        ],\n",
              "       [0.57184855, 0.19212818, 0.        , 0.66666667],\n",
              "       [0.73935412, 0.23839661, 0.47826087, 0.        ],\n",
              "       [0.4995657 , 0.14131933, 0.04347826, 0.66666667],\n",
              "       [0.67297884, 0.3927829 , 0.04347826, 0.        ],\n",
              "       [0.44542316, 0.19101563, 0.04347826, 0.83333333],\n",
              "       [0.42669376, 0.20278701, 0.13043478, 0.41666667],\n",
              "       [0.50938864, 0.1191166 , 0.        , 0.75      ],\n",
              "       [0.5722049 , 0.17004442, 0.        , 0.6       ],\n",
              "       [0.50331292, 0.26879643, 0.04347826, 0.8       ],\n",
              "       [0.62448775, 0.35924545, 0.        , 0.        ],\n",
              "       [0.55756682, 0.09169101, 0.08695652, 0.        ],\n",
              "       [0.52289532, 0.1126073 , 0.08695652, 0.        ],\n",
              "       [0.49815702, 0.09163348, 0.08695652, 0.        ],\n",
              "       [0.54605234, 0.29457345, 0.17391304, 0.375     ],\n",
              "       [0.48948998, 0.29055596, 0.08695652, 0.35294118],\n",
              "       [0.52076837, 0.45289617, 0.08695652, 0.        ],\n",
              "       [0.5552951 , 0.17805325, 0.        , 0.        ],\n",
              "       [0.45327394, 0.09421158, 0.04347826, 0.        ],\n",
              "       [0.50135301, 0.0942691 , 0.13043478, 0.        ],\n",
              "       [0.57888641, 0.28847858, 0.08695652, 0.375     ],\n",
              "       [0.59560134, 0.21989499, 0.13043478, 0.85714286],\n",
              "       [0.55754454, 0.27798971, 0.08695652, 0.4       ],\n",
              "       [0.46623608, 0.01570258, 0.        , 0.        ],\n",
              "       [0.47609131, 0.060261  , 0.        , 0.        ],\n",
              "       [0.58312918, 0.23003872, 0.04347826, 0.54545455],\n",
              "       [0.64389755, 0.21204043, 0.        , 1.        ],\n",
              "       [0.56577951, 0.12309617, 0.17391304, 0.        ],\n",
              "       [0.50603675, 0.2380567 , 0.08695652, 0.42857143],\n",
              "       [0.63075167, 0.14670561, 0.26086957, 0.        ],\n",
              "       [0.48269488, 0.12298112, 0.        , 0.75      ],\n",
              "       [0.57005011, 0.43197988, 0.08695652, 0.        ],\n",
              "       [0.55605791, 0.11838448, 0.13043478, 0.        ],\n",
              "       [0.47218263, 0.40147286, 0.26086957, 0.3       ],\n",
              "       [0.42753341, 0.26568363, 0.04347826, 0.        ],\n",
              "       [0.49458797, 0.10997168, 0.        , 0.        ],\n",
              "       [0.50946102, 0.32040015, 0.08695652, 0.42857143],\n",
              "       [0.59847996, 0.4125788 , 0.        , 0.        ],\n",
              "       [0.86967706, 0.34842582, 0.73913043, 0.        ],\n",
              "       [0.56881403, 0.2578003 , 0.08695652, 0.75      ],\n",
              "       [0.71760022, 0.40893914, 0.17391304, 0.52173913],\n",
              "       [0.60237751, 0.9790837 , 0.30434783, 0.        ],\n",
              "       [0.54007795, 0.50521763, 0.13043478, 0.        ],\n",
              "       [0.5691882 , 0.32717876, 0.04347826, 0.6       ],\n",
              "       [0.7827951 , 0.27507302, 0.56521739, 0.        ],\n",
              "       [0.61403341, 0.18327089, 0.        , 0.83333333],\n",
              "       [0.5469833 , 0.22643305, 0.        , 0.92307692],\n",
              "       [0.65860802, 0.3387815 , 0.17391304, 0.35294118],\n",
              "       [0.55926949, 0.46394197, 0.        , 0.54545455],\n",
              "       [0.43966036, 0.23553613, 0.13043478, 0.        ],\n",
              "       [0.49171492, 0.23289528, 0.08695652, 0.42857143],\n",
              "       [0.61021158, 0.2133321 , 0.        , 1.        ],\n",
              "       [0.46797327, 0.31013745, 0.04347826, 0.84210526],\n",
              "       [0.5230735 , 0.1126073 , 0.17391304, 0.        ],\n",
              "       [0.32560356, 0.47107226, 0.2173913 , 0.51851852],\n",
              "       [0.54370267, 0.18068887, 0.        , 0.        ],\n",
              "       [0.73076949, 0.32986537, 0.        , 0.85714286],\n",
              "       [0.52422606, 0.51563722, 0.08695652, 0.        ],\n",
              "       [0.56699666, 0.13616314, 0.        , 0.66666667],\n",
              "       [0.45442094, 0.2197708 , 0.04347826, 0.46153846],\n",
              "       [0.52334076, 0.13476166, 0.        , 1.        ],\n",
              "       [0.41671492, 0.21719793, 0.        , 0.        ],\n",
              "       [0.60132405, 0.36901397, 0.30434783, 0.31578947],\n",
              "       [0.6478118 , 0.42413055, 0.04347826, 0.        ],\n",
              "       [0.5781069 , 0.15450134, 0.08695652, 0.6       ],\n",
              "       [0.53056793, 0.25521829, 0.04347826, 0.        ],\n",
              "       [0.53767817, 0.13874123, 0.08695652, 0.66666667],\n",
              "       [0.5153118 , 0.37535723, 0.17391304, 0.        ],\n",
              "       [0.7081069 , 0.27748638, 0.        , 1.        ],\n",
              "       [0.73562361, 0.30889155, 0.        , 1.        ],\n",
              "       [0.3636804 , 0.21456754, 0.        , 0.69230769],\n",
              "       [0.7233686 , 0.42728388, 0.34782609, 0.33333333],\n",
              "       [0.56034521, 0.37292556, 0.17391304, 0.77272727],\n",
              "       [0.53010802, 0.36253474, 0.13043478, 0.55      ],\n",
              "       [0.47499443, 0.11254978, 0.08695652, 0.        ],\n",
              "       [0.57741091, 0.28259943, 0.04347826, 0.375     ],\n",
              "       [0.51613808, 0.1191166 , 0.        , 0.75      ],\n",
              "       [0.48651448, 0.07329528, 0.08695652, 0.        ],\n",
              "       [0.48864699, 0.13868371, 0.04347826, 0.66666667],\n",
              "       [0.37390312, 0.26958607, 0.08695652, 0.38461538],\n",
              "       [0.58731069, 0.12573179, 0.08695652, 0.        ],\n",
              "       [0.52631403, 0.10004628, 0.04347826, 0.        ],\n",
              "       [0.44890869, 0.25123871, 0.17391304, 0.        ],\n",
              "       [0.47499443, 0.11254978, 0.17391304, 0.        ],\n",
              "       [0.59571269, 0.36279621, 0.08695652, 0.4       ],\n",
              "       [0.79061136, 0.56925426, 0.39130435, 0.54545455],\n",
              "       [0.54503341, 0.31602053, 0.26086957, 0.35294118],\n",
              "       [0.61606904, 0.19162616, 0.        , 0.90909091],\n",
              "       [0.4156069 , 0.05882684, 0.        , 0.        ],\n",
              "       [0.7859343 , 0.56714551, 0.26086957, 0.38709677],\n",
              "       [0.50802895, 0.32189315, 0.04347826, 0.        ],\n",
              "       [0.63750557, 0.49393128, 0.34782609, 0.26086957],\n",
              "       [0.62116481, 0.37692082, 0.30434783, 0.31578947],\n",
              "       [0.56474944, 0.1764975 , 0.13043478, 0.        ],\n",
              "       [0.2422049 , 0.21455316, 0.04347826, 0.        ],\n",
              "       [0.62462138, 0.21624356, 0.        , 0.66666667],\n",
              "       [0.67179844, 0.51896181, 0.17391304, 0.375     ],\n",
              "       [0.49888641, 0.24266773, 0.17391304, 0.46153846],\n",
              "       [0.47490535, 0.11254978, 0.04347826, 0.        ],\n",
              "       [0.59664254, 0.36816681, 0.2173913 , 0.35294118],\n",
              "       [0.57928731, 0.11002921, 0.08695652, 0.        ],\n",
              "       [0.56342984, 0.26166483, 0.04347826, 0.8125    ],\n",
              "       [0.51810134, 0.2062894 , 0.        , 0.        ],\n",
              "       [0.54596325, 0.29457345, 0.2173913 , 0.375     ],\n",
              "       [0.49671492, 0.13088798, 0.13043478, 0.        ],\n",
              "       [0.62912584, 0.31944187, 0.34782609, 0.        ],\n",
              "       [0.58402004, 0.21725415, 0.08695652, 0.85714286],\n",
              "       [0.54064588, 0.08641977, 0.04347826, 0.        ],\n",
              "       [0.55389198, 0.15343323, 0.        , 0.        ],\n",
              "       [0.48023942, 0.27078098, 0.2173913 , 0.        ],\n",
              "       [0.50828508, 0.1126073 , 0.08695652, 0.        ],\n",
              "       [0.51987751, 0.10997168, 0.17391304, 0.        ],\n",
              "       [0.59541871, 0.34943902, 0.08695652, 0.57142857],\n",
              "       [0.43732739, 0.07716504, 0.04347826, 0.        ],\n",
              "       [0.44891425, 0.15831357, 0.04347826, 0.6       ],\n",
              "       [0.73069154, 0.52646077, 0.17391304, 0.22222222],\n",
              "       [0.49815702, 0.09163348, 0.13043478, 0.        ],\n",
              "       [0.54359131, 0.29768233, 0.2173913 , 0.375     ],\n",
              "       [0.48656459, 0.0942691 , 0.08695652, 0.        ],\n",
              "       [0.53500557, 0.1581593 , 0.04347826, 0.        ],\n",
              "       [0.58805122, 0.30110367, 0.30434783, 0.        ],\n",
              "       [0.65636971, 0.43035746, 0.13043478, 0.5       ],\n",
              "       [0.61995546, 0.47639971, 0.34782609, 0.42857143],\n",
              "       [0.63135301, 0.32986668, 0.13043478, 0.6       ],\n",
              "       [0.55185969, 0.12618021, 0.        , 0.85714286],\n",
              "       [0.50231626, 0.27086335, 0.08695652, 0.375     ],\n",
              "       [0.67141425, 0.2434456 , 0.        , 1.        ],\n",
              "       [0.5689922 , 0.18068887, 0.04347826, 0.        ],\n",
              "       [0.62498886, 0.42643541, 0.2173913 , 0.5       ],\n",
              "       [0.50837416, 0.1126073 , 0.17391304, 0.        ],\n",
              "       [0.6842706 , 0.43737139, 0.26086957, 0.33333333],\n",
              "       [0.59344655, 0.28376689, 0.04347826, 0.42857143],\n",
              "       [0.60903118, 0.12836741, 0.2173913 , 0.        ],\n",
              "       [0.52242873, 0.21714041, 0.08695652, 0.46153846],\n",
              "       [0.69738307, 0.30630692, 0.        , 0.54545455],\n",
              "       [0.60819042, 0.21317391, 0.2173913 , 0.        ],\n",
              "       [0.53413363, 0.21332817, 0.04347826, 0.46153846],\n",
              "       [0.42722717, 0.09550324, 0.04347826, 0.        ],\n",
              "       [0.65305122, 0.38672726, 0.39130435, 0.28571429],\n",
              "       [0.45391425, 0.25906843, 0.08695652, 0.35714286],\n",
              "       [0.44542316, 0.19101563, 0.04347826, 0.83333333],\n",
              "       [0.39326281, 0.05624874, 0.        , 0.        ],\n",
              "       [0.53613586, 0.3533846 , 0.17391304, 0.31578947],\n",
              "       [0.56903229, 0.14451841, 0.        , 0.75      ],\n",
              "       [0.57483853, 0.10739359, 0.17391304, 0.        ],\n",
              "       [0.73562361, 0.30889155, 0.        , 1.        ],\n",
              "       [0.65435969, 0.4225029 , 0.17391304, 0.54545455],\n",
              "       [0.65893096, 0.42715706, 0.17391304, 0.66666667],\n",
              "       [0.61497216, 0.26321535, 0.2173913 , 0.        ],\n",
              "       [0.43155345, 0.07587338, 0.        , 0.        ],\n",
              "       [0.59520156, 0.15450134, 0.04347826, 0.6       ],\n",
              "       [0.51252784, 0.08170808, 0.        , 0.        ],\n",
              "       [0.57435969, 0.18068887, 0.        , 0.        ],\n",
              "       [0.77975501, 0.4896301 , 0.60869565, 0.21428571],\n",
              "       [0.6763196 , 0.48172324, 0.08695652, 0.        ],\n",
              "       [0.64403118, 0.33086941, 0.08695652, 0.70588235],\n",
              "       [0.57685301, 0.34105106, 0.        , 0.54545455],\n",
              "       [0.61403341, 0.18327089, 0.        , 0.83333333],\n",
              "       [0.56009465, 0.17541763, 0.04347826, 0.        ],\n",
              "       [0.71359688, 0.31152717, 0.        , 0.9       ],\n",
              "       [0.31819599, 0.32969541, 0.08695652, 0.47368421],\n",
              "       [0.5494265 , 0.15576816, 0.        , 1.        ],\n",
              "       [0.61827951, 0.14406999, 0.26086957, 0.        ],\n",
              "       [0.42683185, 0.09292514, 0.        , 0.        ],\n",
              "       [0.58503898, 0.16498629, 0.26086957, 0.        ],\n",
              "       [0.56422829, 0.44289364, 0.13043478, 0.52173913],\n",
              "       [0.58416927, 0.15450134, 0.        , 0.6       ],\n",
              "       [0.50042873, 0.0366764 , 0.        , 0.        ],\n",
              "       [0.48710468, 0.15960523, 0.04347826, 0.6       ],\n",
              "       [0.61851448, 0.19117774, 0.        , 0.5       ],\n",
              "       [0.66717149, 0.2617838 , 0.        , 0.94117647],\n",
              "       [0.2931069 , 0.13867979, 0.13043478, 0.        ],\n",
              "       [0.39499443, 0.19885973, 0.        , 0.        ],\n",
              "       [0.53952116, 0.1374548 , 0.08695652, 0.66666667],\n",
              "       [0.677951  , 0.32722583, 0.13043478, 0.6       ],\n",
              "       [0.4876559 , 0.09163348, 0.        , 0.        ],\n",
              "       [0.49978842, 0.17665177, 0.04347826, 0.54545455],\n",
              "       [0.62319599, 0.36672349, 0.17391304, 0.        ],\n",
              "       [0.57243318, 0.26307154, 0.08695652, 0.375     ],\n",
              "       [0.47863029, 0.0942691 , 0.08695652, 0.        ],\n",
              "       [0.62703786, 0.24091718, 0.39130435, 0.        ],\n",
              "       [0.43155345, 0.07587338, 0.08695652, 0.        ],\n",
              "       [0.60038976, 0.28743793, 0.        , 0.75      ],\n",
              "       [0.41431514, 0.25259313, 0.04347826, 0.4       ],\n",
              "       [0.52377506, 0.21332817, 0.13043478, 0.46153846],\n",
              "       [0.48795657, 0.03404078, 0.        , 0.        ],\n",
              "       [0.50859131, 0.13347522, 0.        , 1.        ],\n",
              "       [0.46540089, 0.10335649, 0.        , 0.85714286],\n",
              "       [0.58359688, 0.20424078, 0.30434783, 0.        ],\n",
              "       [0.36998886, 0.14390265, 0.        , 0.66666667],\n",
              "       [0.53139755, 0.07071719, 0.04347826, 0.        ],\n",
              "       [0.48710468, 0.15960523, 0.04347826, 0.6       ],\n",
              "       [0.46396437, 0.07065966, 0.04347826, 0.        ],\n",
              "       [0.56479955, 0.35858001, 0.17391304, 0.42857143],\n",
              "       [0.57184855, 0.19212818, 0.        , 0.66666667],\n",
              "       [0.53891425, 0.26444949, 0.13043478, 0.        ],\n",
              "       [0.66276726, 0.45994802, 0.30434783, 0.28571429],\n",
              "       [0.58552339, 0.29077037, 0.        , 0.75      ],\n",
              "       [0.40869154, 0.20149535, 0.04347826, 0.        ],\n",
              "       [0.53536192, 0.21332817, 0.13043478, 0.46153846],\n",
              "       [0.86296214, 0.49585701, 0.04347826, 0.63157895],\n",
              "       [0.47050111, 0.35782305, 0.08695652, 0.33333333],\n",
              "       [0.37327394, 0.18052153, 0.        , 0.        ],\n",
              "       [0.65973274, 0.33230488, 0.17391304, 0.        ]])"
            ]
          },
          "metadata": {},
          "execution_count": 117
        }
      ]
    },
    {
      "cell_type": "code",
      "source": [
        "regression=LinearRegression()"
      ],
      "metadata": {
        "id": "OwEFa8OJgl_O"
      },
      "execution_count": 118,
      "outputs": []
    },
    {
      "cell_type": "code",
      "source": [
        "regression.fit(X_train,y_train)"
      ],
      "metadata": {
        "colab": {
          "base_uri": "https://localhost:8080/"
        },
        "id": "Fn6px2KNgmB5",
        "outputId": "3460c8a0-c02a-4597-fcc8-25955cf10455"
      },
      "execution_count": 119,
      "outputs": [
        {
          "output_type": "execute_result",
          "data": {
            "text/plain": [
              "LinearRegression()"
            ]
          },
          "metadata": {},
          "execution_count": 119
        }
      ]
    },
    {
      "cell_type": "code",
      "source": [
        "regression.intercept_"
      ],
      "metadata": {
        "colab": {
          "base_uri": "https://localhost:8080/"
        },
        "id": "It68UiHWg3ZA",
        "outputId": "e49429bf-36f6-4fd4-8980-79867562504f"
      },
      "execution_count": 120,
      "outputs": [
        {
          "output_type": "execute_result",
          "data": {
            "text/plain": [
              "5.621146575134775"
            ]
          },
          "metadata": {},
          "execution_count": 120
        }
      ]
    },
    {
      "cell_type": "code",
      "source": [
        "regression.coef_"
      ],
      "metadata": {
        "colab": {
          "base_uri": "https://localhost:8080/"
        },
        "id": "tQTBVj4lg8TB",
        "outputId": "e1f5bd44-399a-439b-b7b6-57362cd60879"
      },
      "execution_count": 121,
      "outputs": [
        {
          "output_type": "execute_result",
          "data": {
            "text/plain": [
              "array([-13.04389232,  -5.24312263,   0.42841411,  -0.36715288])"
            ]
          },
          "metadata": {},
          "execution_count": 121
        }
      ]
    },
    {
      "cell_type": "code",
      "source": [
        ""
      ],
      "metadata": {
        "id": "RXDn20F8hAlC"
      },
      "execution_count": 121,
      "outputs": []
    },
    {
      "cell_type": "code",
      "source": [
        "y_pred_train=regression.predict(X_train)\n",
        "y_pred_train"
      ],
      "metadata": {
        "colab": {
          "base_uri": "https://localhost:8080/"
        },
        "id": "haNW95EnhAnA",
        "outputId": "aabc20c1-6d19-479f-bf73-f4925b05b39a"
      },
      "execution_count": 122,
      "outputs": [
        {
          "output_type": "execute_result",
          "data": {
            "text/plain": [
              "array([-3.21342338e+00, -1.73218656e+00, -2.23292849e+00, -5.62579047e+00,\n",
              "       -1.88678084e+00,  1.07857744e+00, -1.11631983e+00, -2.01121061e+00,\n",
              "       -2.96930825e+00, -1.76314400e+00, -2.09069614e+00, -3.91238575e+00,\n",
              "       -4.63409195e+00, -3.91631734e+00, -8.47571046e-01, -2.71591573e+00,\n",
              "       -3.31867327e+00, -5.29968588e+00, -1.92317160e+00, -4.55236081e+00,\n",
              "       -1.84917347e+00, -2.67630206e+00, -1.45737356e+00, -6.62515054e+00,\n",
              "       -1.76068887e+00, -3.16069776e+00, -3.14495014e+00, -2.46118148e+00,\n",
              "       -1.12748853e+00, -3.21827208e+00, -2.78352943e+00, -3.76282246e+00,\n",
              "       -6.13353443e+00, -4.97788126e+00, -4.97788126e+00, -5.44786051e+00,\n",
              "       -1.36504813e+00, -4.48162707e+00, -3.07540645e+00, -2.09518871e+00,\n",
              "       -1.73513954e+00, -3.53174817e+00, -2.91465990e+00, -3.99459105e+00,\n",
              "       -1.85833837e+00, -1.84917347e+00,  5.84923094e-01, -4.29143470e+00,\n",
              "       -1.89321737e+00, -2.02876088e+00, -3.03015789e+00, -4.26206440e+00,\n",
              "       -1.87026060e+00, -2.01121061e+00, -5.63353319e+00, -5.24632131e+00,\n",
              "       -2.65374134e+00, -1.26616511e+00, -3.64642830e+00, -4.20588211e+00,\n",
              "       -3.04624950e+00, -4.97788126e+00, -2.67960917e+00, -3.44644667e+00,\n",
              "       -3.47634170e+00, -1.27415473e+00, -7.19221603e-01, -3.59694645e+00,\n",
              "       -2.57869307e+00, -1.69071410e+00, -2.18121818e+00, -3.26389658e+00,\n",
              "       -1.59524321e+00, -5.10179321e+00, -5.05669838e+00, -2.16144691e+00,\n",
              "       -1.38327540e+00, -3.34163704e+00, -2.40247948e+00, -5.44311690e+00,\n",
              "       -7.37281139e+00, -1.98132078e+00, -3.37288735e+00, -3.03238701e+00,\n",
              "       -8.30106385e-01, -5.16087577e+00, -6.70396490e+00, -2.54206065e+00,\n",
              "       -3.50272868e+00, -1.50419542e+00, -6.48501511e+00, -3.39144300e+00,\n",
              "       -4.72106921e+00, -1.83779958e+00, -3.36718547e+00, -1.47190657e+00,\n",
              "       -8.13510192e-01, -2.40598884e+00, -2.29852889e+00, -3.53085023e+00,\n",
              "        8.79669531e-02, -6.12878524e+00, -1.92287220e+00, -2.68225943e+00,\n",
              "       -1.90424550e+00, -3.87974437e+00, -3.70818031e+00, -8.62621755e+00,\n",
              "        5.70317818e-01, -1.92287220e+00, -2.09205318e+00, -4.03169799e+00,\n",
              "       -2.94194480e+00, -7.75056517e+00, -3.07696382e+00, -1.47775759e+00,\n",
              "       -2.67522031e+00, -1.31995208e+00, -5.23091509e+00, -2.40250408e+00,\n",
              "       -3.13288195e+00, -8.44833706e+00, -3.53070186e+00, -1.49887600e+00,\n",
              "       -7.75056517e+00, -2.26508797e+00, -3.86777467e-01, -2.59208216e+00,\n",
              "       -2.67522031e+00, -2.60173126e+00, -1.86223109e+00, -1.86163060e+00,\n",
              "       -2.26115852e+00, -3.81626678e+00, -4.55236081e+00, -2.64481470e+00,\n",
              "       -5.91772467e+00, -1.49462696e+00, -7.75056517e+00, -3.04624950e+00,\n",
              "       -1.38327540e+00, -4.46691009e+00, -3.47789161e+00, -1.59476507e+00,\n",
              "       -8.73590632e-01, -2.48097022e+00, -3.04868971e+00, -2.32065111e+00,\n",
              "       -1.63228386e+00, -3.36277909e+00, -2.09499355e+00, -2.59634613e+00,\n",
              "       -3.22484920e+00, -7.75056517e+00, -3.77628217e+00, -2.25221832e+00,\n",
              "       -5.33529071e+00, -3.33244913e+00, -2.51920078e+00, -3.34432121e+00,\n",
              "       -4.34426878e+00, -1.07906643e+00, -2.24450706e+00, -2.55561795e+00,\n",
              "       -4.92819994e+00, -8.29129144e-01, -4.91142241e+00, -1.62657801e+00,\n",
              "       -4.93656225e+00, -1.71217172e+00, -2.91272542e+00, -4.79441285e+00,\n",
              "       -4.13721675e+00, -3.69099319e+00, -2.01953882e+00, -1.91068203e+00,\n",
              "       -1.73434624e+00, -4.97788126e+00, -4.33050587e+00, -3.60877947e+00,\n",
              "       -1.78626988e+00, -2.75749640e+00, -2.40143917e+00,  1.78227501e+00,\n",
              "       -5.12555345e+00, -2.31942885e+00, -2.19264571e+00, -1.84849201e+00,\n",
              "       -5.84491203e-01, -3.07600957e+00, -1.41582576e+00, -2.63332133e+00,\n",
              "       -2.04988295e+00, -1.63201847e+00, -2.27235997e+00, -1.83779958e+00,\n",
              "       -2.30908980e+00, -5.01848112e-01, -1.85161361e+00, -3.77243064e+00,\n",
              "       -5.36408847e+00, -2.59424184e+00, -2.63052578e+00, -3.60902278e+00,\n",
              "       -2.01121061e+00, -1.81937807e+00, -1.51605157e+00, -3.21827208e+00,\n",
              "       -4.25669061e+00, -4.63409195e+00, -4.53835322e+00, -7.75056517e+00,\n",
              "       -6.55717372e+00, -2.16302517e+00, -3.26490811e+00, -2.01953882e+00,\n",
              "       -2.15802730e+00, -2.00915923e+00, -2.61976231e+00, -8.25684982e-02,\n",
              "       -4.45282931e+00, -1.31109537e-01, -3.22981150e+00, -3.37920362e+00,\n",
              "       -6.45655806e+00, -2.21001594e+00, -2.41004621e+00, -5.68284026e+00,\n",
              "       -2.24460180e+00, -2.65541785e+00, -4.15415214e+00, -2.69438199e+00,\n",
              "       -1.75494989e+00, -3.69924089e+00, -5.72940580e-01, -1.90494321e+00,\n",
              "       -9.93037003e-01, -1.10846241e+00, -2.42408502e+00, -4.36928717e+00,\n",
              "       -3.73768066e+00, -5.66755554e+00, -2.26197172e+00, -3.85470873e+00,\n",
              "       -2.16159384e+00, -6.23736337e-01, -4.97788126e+00, -6.03126110e+00,\n",
              "       -3.04595456e+00, -4.99427797e+00, -1.99608184e+00,  7.67928332e-01,\n",
              "       -1.39479051e+00, -5.66755554e+00, -1.96071839e+00, -2.03811156e+00,\n",
              "       -4.73103598e+00, -2.73338540e+00, -4.59108516e+00, -5.85604800e+00,\n",
              "       -8.86352074e-01, -3.68787693e+00, -5.22361961e+00, -3.60877947e+00,\n",
              "       -1.35074961e+00, -4.24247478e+00, -4.55236081e+00, -4.34041022e-01,\n",
              "       -3.79705831e+00, -2.75926148e-01, -1.20254871e+00, -7.04473780e+00,\n",
              "       -7.78351322e-01, -4.61663076e+00, -2.61449583e+00, -7.66646064e-01,\n",
              "       -5.04414847e+00, -4.20660521e-01, -5.32271703e+00, -2.15802730e+00,\n",
              "       -1.95304552e+00, -3.99270974e+00, -2.31348303e+00, -3.78810933e+00,\n",
              "       -3.77712819e+00, -2.73274564e+00, -1.66249803e+00, -1.55784185e+00,\n",
              "       -4.14503458e+00, -1.83599466e+00, -2.01121061e+00, -2.10496034e+00,\n",
              "       -1.79911594e-01, -1.05486796e+01, -1.56202974e+00, -1.47515219e+00,\n",
              "       -2.25221832e+00, -5.79640437e-01, -6.04095048e+00, -4.43187045e+00,\n",
              "       -2.79555733e-02, -3.94426470e+00, -6.06605095e+00, -1.43990890e+00,\n",
              "       -5.52778747e+00, -3.77628217e+00, -2.10496034e+00, -2.86489123e+00,\n",
              "       -3.22484920e+00, -5.23676958e+00, -1.59527557e+00, -3.79746350e+00,\n",
              "       -2.37000170e+00, -4.01533160e+00, -6.03126110e+00, -9.88591520e-01,\n",
              "       -6.04095048e+00, -2.44682606e+00, -3.90490757e+00, -4.12515795e+00,\n",
              "       -4.46656884e+00, -2.09424762e+00, -2.76332195e+00, -2.81811325e+00,\n",
              "       -1.90424550e+00, -5.25994776e+00, -6.02310418e+00, -3.77628217e+00,\n",
              "       -7.05430887e+00, -4.13201946e+00, -3.44808367e+00, -5.21753206e+00,\n",
              "       -1.99697571e+00, -2.18624127e+00, -1.28698907e+00, -9.14739720e+00,\n",
              "       -2.03110523e+00, -2.96625186e+00, -2.28371467e+00, -3.15554085e+00,\n",
              "       -2.32690150e+00, -5.07231092e+00, -2.93170088e+00, -2.62593044e+00,\n",
              "       -7.18223963e-01, -1.39072531e+00, -1.10652447e+00, -2.98757935e+00,\n",
              "       -4.85058006e+00, -3.12246403e+00, -4.77352059e+00,  1.78954965e+00,\n",
              "       -2.60476000e+00, -3.36277909e+00, -3.61216041e+00, -2.31367899e+00,\n",
              "       -2.12304947e+00, -3.90092731e+00, -3.29254335e+00, -4.46691009e+00,\n",
              "       -4.77353267e+00, -7.05430887e+00, -4.57544111e+00, -8.04253436e-01,\n",
              "       -1.86745643e+00, -2.43038820e+00, -2.30908980e+00, -4.12630136e+00,\n",
              "       -1.84073438e+00, -3.21441959e+00, -3.44196159e+00, -2.68225943e+00,\n",
              "       -1.56761348e+00, -4.34490724e-01, -1.20798826e+00, -4.69963525e+00,\n",
              "       -4.14625359e+00, -2.67703408e+00, -4.88736535e+00,  5.29528756e-01,\n",
              "       -3.74034220e+00, -5.12538055e+00, -1.30165556e+00, -4.30112314e+00,\n",
              "       -3.82201095e+00,  1.88024728e+00, -4.20019705e+00, -2.69056442e+00,\n",
              "       -6.58309616e+00, -5.90141679e-01, -1.46736694e+00, -2.65412973e+00,\n",
              "       -4.85109062e+00, -8.21718097e-01, -3.22484920e+00, -6.09675192e+00,\n",
              "       -2.39689043e+00, -1.54340303e+00, -9.95989938e-01, -4.50371866e+00,\n",
              "       -2.57547914e+00, -2.09747231e+00, -2.83434181e+00, -2.44383442e+00,\n",
              "       -1.11430972e+00, -2.82703575e+00,  7.50130929e-01, -2.30908980e+00,\n",
              "       -3.11119069e+00, -4.71923922e+00, -6.41278498e+00, -2.38566933e+00,\n",
              "       -9.95989938e-01, -5.10513725e+00, -6.35985235e+00, -3.09010458e+00,\n",
              "       -2.09627850e+00, -4.26285485e+00, -6.00668146e+00, -1.62200012e+00,\n",
              "       -1.69262132e+00, -4.55236081e+00, -1.88366459e+00, -4.36632715e+00,\n",
              "       -3.74693418e+00, -3.75328648e+00, -2.60534953e+00, -2.85866276e+00,\n",
              "       -2.01953882e+00, -2.80331817e+00, -6.56217497e+00, -4.63409195e+00,\n",
              "       -3.69314847e+00, -5.06882905e-01, -7.21903999e+00, -2.72639873e+00,\n",
              "       -1.49887600e+00, -3.71264997e+00, -3.28295641e+00, -3.15433296e+00,\n",
              "       -1.92845595e+00, -2.32655182e+00, -2.60846578e+00, -6.52257172e+00,\n",
              "       -4.21935176e+00, -3.23106958e+00, -2.29782331e+00, -3.12894004e+00,\n",
              "       -1.63228386e+00, -6.97937061e+00, -1.52528078e+00, -4.71910046e+00,\n",
              "        2.96900671e-01, -5.46193672e+00, -1.15628629e+00, -2.64338576e+00,\n",
              "       -2.18960748e+00, -3.33980683e+00, -1.25413157e+00, -3.32917614e+00,\n",
              "       -1.89532853e+00, -2.77465387e+00, -4.52060572e+00,  1.37301477e+00,\n",
              "       -2.13715029e+00, -2.76809757e+00, -4.12806521e+00, -1.92287220e+00,\n",
              "       -1.03008091e+00, -9.64182971e-01, -1.53092145e+00, -3.26431923e+00,\n",
              "       -4.52344436e+00, -1.68112473e+00, -1.48599364e+00, -6.37005807e-01,\n",
              "       -2.44383442e+00, -1.96071839e+00, -2.47565346e+00, -2.69080628e+00,\n",
              "       -4.24057226e-01, -4.03886697e+00, -3.09010458e+00, -3.15974097e+00,\n",
              "       -3.69742971e+00, -1.98761956e+00, -1.86805102e+00, -2.81687364e+00,\n",
              "       -2.66410230e+00, -1.24719454e+00, -1.82431844e+00, -2.24758064e+00,\n",
              "       -4.25177573e+00, -7.05430887e+00, -3.34761538e+00, -1.84917347e+00,\n",
              "       -9.39806756e+00, -2.49636694e+00, -1.73872957e+00, -1.45853560e+00,\n",
              "       -1.10493836e+00, -1.52404929e+00, -4.68462051e+00, -4.64174838e+00,\n",
              "       -4.19921161e+00, -5.31312720e+00, -5.45838113e+00, -3.91117674e+00,\n",
              "       -4.46561047e+00, -6.45655806e+00, -2.50585968e+00, -3.77628217e+00,\n",
              "       -6.93498629e+00, -2.09164089e+00, -5.73819488e+00, -3.90800014e+00,\n",
              "       -6.61082420e+00, -3.78166541e+00, -5.32706197e+00, -6.94759331e+00,\n",
              "       -1.46270472e+00, -4.94171291e+00, -3.38873122e+00, -3.89228354e+00,\n",
              "       -4.66176795e+00, -3.05228134e+00, -4.01422828e+00, -4.20352441e+00,\n",
              "       -3.81626678e+00, -3.35574806e+00, -4.17227716e+00, -4.09723850e+00,\n",
              "       -1.84917347e+00, -3.26642682e+00, -3.89029857e+00, -7.15389829e+00,\n",
              "       -2.26508797e+00, -1.92317160e+00, -4.68376420e+00, -4.21180996e+00,\n",
              "       -3.65511154e+00, -2.68834336e+00, -2.68027132e+00, -2.13785740e+00,\n",
              "       -2.25405984e+00, -5.33445830e+00, -1.82820941e+00, -5.73960835e+00,\n",
              "       -3.25716457e+00, -1.15290573e+00, -2.01427047e+00, -1.58113511e+00,\n",
              "       -1.27413736e-01, -3.79754950e+00, -2.29175204e+00, -1.06900089e+00,\n",
              "       -4.04159269e+00, -1.68079454e+00, -2.50535595e+00, -2.83594232e+00,\n",
              "       -1.68079454e+00, -1.47775759e+00, -5.43737166e+00, -3.15347733e+00,\n",
              "       -1.03008091e+00, -1.83014734e+00, -2.29175204e+00, -1.41155047e+00,\n",
              "        1.89771194e+00, -3.42865548e+00, -2.21001594e+00, -4.34268287e+00,\n",
              "       -4.72937421e+00, -2.88506610e+00, -1.66249803e+00, -2.04461585e+00,\n",
              "       -5.60716377e+00, -1.18997161e+00, -1.64529041e+00, -5.87394894e-01,\n",
              "       -2.64338576e+00, -5.96095772e+00, -3.39752434e-01, -1.54340303e+00,\n",
              "       -4.19311436e+00, -2.94262802e+00, -7.75056517e+00, -6.60145463e+00,\n",
              "       -7.30918872e-01, -6.12680623e+00, -1.48833100e+00, -1.74411787e+00,\n",
              "       -8.61354748e+00, -7.05430887e+00, -3.09010458e+00, -4.37549331e+00,\n",
              "       -1.00420566e+00, -2.29175204e+00, -2.14501386e+00, -3.38332956e+00,\n",
              "       -9.59109606e-01, -4.13721675e+00, -5.63353319e+00, -1.54419222e+00,\n",
              "       -1.57684395e+00, -2.37000170e+00, -2.24762331e+00, -5.05669838e+00,\n",
              "       -2.43935981e+00, -3.60296086e+00, -2.68225943e+00, -2.80355419e+00,\n",
              "       -1.65808840e+00, -3.38401089e+00, -1.19025840e+00, -4.54029446e+00,\n",
              "       -4.27351429e+00, -3.39309728e+00, -2.24758064e+00, -6.05332091e+00,\n",
              "       -1.64721981e+00, -1.96887948e+00, -1.59524321e+00, -3.33253241e+00,\n",
              "        8.49683982e-01, -2.57085841e+00, -5.14212346e+00, -1.12748853e+00,\n",
              "       -3.67993179e+00,  6.46973867e-01, -6.64939839e+00, -8.40760912e-01,\n",
              "       -3.82406681e+00, -1.43990890e+00, -3.40017500e+00, -7.10984338e+00,\n",
              "       -7.03116476e+00, -1.90883632e+00, -2.59424184e+00, -3.35574806e+00,\n",
              "       -3.24852470e-01, -1.30610576e+00, -2.33486269e+00, -7.05430887e+00,\n",
              "       -1.43990890e+00, -2.54560490e+00, -4.60129703e-01, -3.12214459e+00,\n",
              "       -4.43410967e-01, -1.45314302e+00, -2.92418131e+00, -4.13762661e+00,\n",
              "        2.42240911e+00, -2.70560547e+00, -1.86957807e+00, -2.83401071e+00,\n",
              "       -3.81674607e+00, -3.77628217e+00, -2.50585968e+00, -2.06185439e+00,\n",
              "       -7.91028706e-01, -6.36737354e+00, -3.21577165e+00, -1.97909685e+00,\n",
              "       -3.22248773e+00, -6.35985235e+00, -1.80044691e+00, -3.59694645e+00,\n",
              "       -1.18256057e+00, -3.12246403e+00, -1.06239507e+00, -1.59476507e+00,\n",
              "       -2.79173823e+00, -4.22263076e+00, -3.99270974e+00, -3.69243096e+00,\n",
              "       -1.45737356e+00, -5.81500640e+00, -2.34444961e+00, -1.60803701e+00,\n",
              "       -2.91265439e+00, -1.69160708e+00, -9.62166707e-01, -2.50585968e+00,\n",
              "       -2.97574478e+00, -4.25307650e+00, -2.67703408e+00, -3.33258021e+00,\n",
              "       -2.29500862e+00, -1.64236235e+00, -5.71089364e+00, -3.03904635e+00,\n",
              "       -1.96652107e+00, -1.50577211e+00, -1.66453932e+00, -1.48833100e+00,\n",
              "       -1.86745643e+00, -2.78132406e+00, -2.79589919e+00, -2.55767960e+00,\n",
              "       -2.92819331e+00, -2.95390931e+00, -2.83014334e+00, -1.38238174e+00,\n",
              "       -2.16573905e+00, -6.35985235e+00, -5.04414847e+00, -4.27134511e+00,\n",
              "       -1.54004327e+00, -1.35683241e+00, -2.04163701e+00, -1.33270255e+00,\n",
              "       -5.25706974e+00, -3.89215986e+00, -3.08620089e+00, -2.09627850e+00,\n",
              "       -4.19030845e+00, -6.03126110e+00, -2.06721712e+00, -2.13244211e+00,\n",
              "       -1.57613837e+00, -3.72070797e+00, -3.68905500e+00, -3.83872131e+00,\n",
              "        1.68060201e+00,  3.99003292e-01, -2.64374679e+00, -2.54731908e+00,\n",
              "       -3.73725098e+00, -1.69896730e+00, -2.89179071e+00, -1.20118727e+00,\n",
              "        1.88024728e+00, -1.28302886e+00, -1.86907828e+00, -2.72024454e+00,\n",
              "       -1.90424550e+00, -1.97266708e+00, -7.29392663e-01, -7.74289133e-01,\n",
              "       -2.40725510e+00, -5.73819488e+00, -1.64387133e+00, -5.66755554e+00,\n",
              "       -7.30810938e-01, -3.12416442e+00, -5.56415448e+00, -5.22000960e+00,\n",
              "       -4.29143470e+00, -3.65511154e+00, -4.67011916e+00, -1.34551434e+00,\n",
              "       -1.58966371e+00, -1.64523548e+00, -4.90101247e+00, -1.23392260e+00,\n",
              "       -9.40482906e-01, -2.05173883e+00, -6.35985235e+00, -4.29893138e+00,\n",
              "       -4.94847892e+00, -2.02334049e+00, -3.44969731e+00, -4.04159269e+00,\n",
              "       -4.78611490e+00, -2.92109146e+00, -2.93746283e+00, -9.14739720e+00,\n",
              "       -6.45655806e+00, -5.29542899e-01, -5.39256770e+00, -2.35921858e+00,\n",
              "       -2.84509917e+00, -1.16509591e+00, -4.46691009e+00, -3.49863740e+00,\n",
              "       -5.66755554e+00, -2.25735227e+00, -3.51129830e+00, -8.02690601e+00,\n",
              "       -3.71597025e+00, -3.60877947e+00, -1.45953324e+00, -2.38319227e+00,\n",
              "       -2.49328458e+00, -1.40230153e+00, -6.61805270e+00, -1.47716230e+00,\n",
              "       -4.96707576e+00, -3.45953605e+00, -1.93995968e+00, -2.95123138e+00,\n",
              "       -1.63228386e+00, -2.46405309e+00, -2.93848349e+00, -5.71838856e+00,\n",
              "       -4.12630136e+00, -2.81687364e+00, -3.90809958e+00, -4.20505444e+00,\n",
              "       -3.72326697e+00, -1.09653109e+00, -3.52410540e+00, -8.78231259e+00,\n",
              "       -2.41004621e+00, -5.38613767e+00, -2.73338540e+00, -2.79397647e+00,\n",
              "       -3.84627807e+00, -3.90490757e+00, -3.60000513e+00, -2.00471379e+00,\n",
              "       -5.47613263e+00, -5.43737166e+00,  1.68060201e+00, -4.75979588e+00,\n",
              "       -1.43990890e+00, -2.51246742e+00, -5.67678796e+00, -8.44833706e+00,\n",
              "       -4.80213174e+00, -1.82037571e+00, -2.93848349e+00, -7.74289133e-01,\n",
              "       -7.75056517e+00, -1.49077115e+00, -5.80322642e+00, -6.64939839e+00,\n",
              "       -9.77364949e-01, -2.59715623e+00, -1.85345932e+00, -3.16525433e+00,\n",
              "       -4.03136052e-01, -1.86745643e+00, -2.04830854e-01, -7.70772545e-03,\n",
              "       -1.64746544e+00, -5.66755554e+00, -4.68001091e+00, -3.52314543e+00,\n",
              "       -4.61890585e+00, -4.99177156e+00, -4.42510908e+00, -2.97687889e+00,\n",
              "       -3.70426660e+00, -2.14501386e+00, -2.88492136e+00, -7.82605221e-01,\n",
              "       -3.94952324e+00, -2.68964424e+00, -2.26299719e+00, -2.41004621e+00,\n",
              "       -5.13436306e+00, -3.54390918e+00, -2.44383442e+00, -7.10704524e+00,\n",
              "       -3.25849048e+00, -4.34470406e+00, -1.88177822e+00, -3.40568224e+00,\n",
              "       -2.28371467e+00, -3.59907419e+00, -4.60875628e-01, -2.31367899e+00,\n",
              "       -4.17789333e+00, -9.50196339e-01, -2.10496034e+00, -9.31958020e-01,\n",
              "       -2.67703408e+00, -6.80815176e-01, -4.56224374e+00,  2.99626400e-01,\n",
              "       -6.35985235e+00, -3.95473670e+00, -2.15802730e+00, -2.78549213e+00,\n",
              "       -2.51928649e+00, -2.56750605e+00, -5.66755554e+00, -1.37350377e+00,\n",
              "       -5.43733591e-01, -1.66514668e+00, -1.48864230e+00, -4.88627078e+00,\n",
              "       -5.70443677e+00, -4.79948675e+00, -3.15554085e+00, -3.29254335e+00,\n",
              "       -1.86629554e+00, -2.48534076e+00, -2.84211628e+00, -3.04770495e+00,\n",
              "       -1.53237490e+00, -8.43176620e-01, -4.56224374e+00, -4.41267813e+00,\n",
              "       -4.41281434e+00, -2.91852207e+00, -1.77108922e+00, -1.86811147e+00,\n",
              "       -6.91871963e-01, -1.83684273e+00, -1.36689865e+00, -3.34185353e-01,\n",
              "       -1.46321470e+00, -2.04163701e+00, -4.31278116e+00, -2.62516707e+00,\n",
              "       -3.41247610e+00, -3.55450073e+00, -4.71184862e+00, -7.46857324e-01,\n",
              "       -4.39301997e+00, -7.99002864e+00, -2.35117177e+00])"
            ]
          },
          "metadata": {},
          "execution_count": 122
        }
      ]
    },
    {
      "cell_type": "code",
      "source": [
        "y_test_pred=regression.predict(X_test)"
      ],
      "metadata": {
        "id": "ObfcWmJ0hRDi"
      },
      "execution_count": 123,
      "outputs": []
    },
    {
      "cell_type": "code",
      "source": [
        "mean_squared_error(y_train,y_pred_train)"
      ],
      "metadata": {
        "colab": {
          "base_uri": "https://localhost:8080/"
        },
        "id": "Hzv-vxwAhRFt",
        "outputId": "eb741fe2-f2e4-4f30-98fa-7bd366e05af1"
      },
      "execution_count": 124,
      "outputs": [
        {
          "output_type": "execute_result",
          "data": {
            "text/plain": [
              "1.009472241515891"
            ]
          },
          "metadata": {},
          "execution_count": 124
        }
      ]
    },
    {
      "cell_type": "code",
      "source": [
        "mean_squared_error(y_test,y_test_pred)"
      ],
      "metadata": {
        "colab": {
          "base_uri": "https://localhost:8080/"
        },
        "id": "yVXMmssPhwOc",
        "outputId": "98b0a639-42c0-4796-c775-f091b6af52ca"
      },
      "execution_count": 125,
      "outputs": [
        {
          "output_type": "execute_result",
          "data": {
            "text/plain": [
              "1.0221891674104266"
            ]
          },
          "metadata": {},
          "execution_count": 125
        }
      ]
    },
    {
      "cell_type": "code",
      "source": [
        "r2_score(y_train,y_pred_train)"
      ],
      "metadata": {
        "colab": {
          "base_uri": "https://localhost:8080/"
        },
        "id": "3209FUROig1h",
        "outputId": "41b501d3-e063-4934-a8eb-a000f2367a9e"
      },
      "execution_count": 126,
      "outputs": [
        {
          "output_type": "execute_result",
          "data": {
            "text/plain": [
              "0.7692295963594564"
            ]
          },
          "metadata": {},
          "execution_count": 126
        }
      ]
    },
    {
      "cell_type": "code",
      "source": [
        "r2_score(y_test,y_test_pred)"
      ],
      "metadata": {
        "colab": {
          "base_uri": "https://localhost:8080/"
        },
        "id": "TlA6InokipnF",
        "outputId": "55cf6623-9726-476c-f5e2-7c49b21f1be9"
      },
      "execution_count": 127,
      "outputs": [
        {
          "output_type": "execute_result",
          "data": {
            "text/plain": [
              "0.7707918869245227"
            ]
          },
          "metadata": {},
          "execution_count": 127
        }
      ]
    },
    {
      "cell_type": "code",
      "source": [
        ""
      ],
      "metadata": {
        "id": "CiHLbBFOipo5"
      },
      "execution_count": 127,
      "outputs": []
    }
  ]
}